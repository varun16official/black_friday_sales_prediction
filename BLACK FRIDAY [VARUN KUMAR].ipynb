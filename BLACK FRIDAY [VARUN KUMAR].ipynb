{
 "cells": [
  {
   "cell_type": "markdown",
   "id": "6204d6ec",
   "metadata": {},
   "source": [
    "### Import Packages "
   ]
  },
  {
   "cell_type": "code",
   "execution_count": 1,
   "id": "179f47d7",
   "metadata": {},
   "outputs": [],
   "source": [
    "import os \n",
    "import pandas as pd \n",
    "import numpy as np \n",
    "import matplotlib.pyplot as plt \n",
    "import seaborn as sns"
   ]
  },
  {
   "cell_type": "markdown",
   "id": "a16df69c",
   "metadata": {},
   "source": [
    "# Problem Statement\n",
    "A retail company “ABC Private Limited” wants to understand the customer purchase behaviour (specifically, purchase amount) against various products of different categories. They have shared purchase summary of various customers for selected high volume products from last month.\n",
    "The data set also contains customer demographics (age, gender, marital status, city_type, stay_in_current_city), product details (product_id and product category) and Total purchase_amount from last month.\n",
    "\n",
    "Now, they want to build a model to predict the purchase amount of customer against various products which will help them to create personalized offer for customers against different products."
   ]
  },
  {
   "cell_type": "code",
   "execution_count": 2,
   "id": "ab0ee2ff",
   "metadata": {},
   "outputs": [
    {
     "data": {
      "text/html": [
       "<div>\n",
       "<style scoped>\n",
       "    .dataframe tbody tr th:only-of-type {\n",
       "        vertical-align: middle;\n",
       "    }\n",
       "\n",
       "    .dataframe tbody tr th {\n",
       "        vertical-align: top;\n",
       "    }\n",
       "\n",
       "    .dataframe thead th {\n",
       "        text-align: right;\n",
       "    }\n",
       "</style>\n",
       "<table border=\"1\" class=\"dataframe\">\n",
       "  <thead>\n",
       "    <tr style=\"text-align: right;\">\n",
       "      <th></th>\n",
       "      <th>User_ID</th>\n",
       "      <th>Product_ID</th>\n",
       "      <th>Gender</th>\n",
       "      <th>Age</th>\n",
       "      <th>Occupation</th>\n",
       "      <th>City_Category</th>\n",
       "      <th>Stay_In_Current_City_Years</th>\n",
       "      <th>Marital_Status</th>\n",
       "      <th>Product_Category_1</th>\n",
       "      <th>Product_Category_2</th>\n",
       "      <th>Product_Category_3</th>\n",
       "      <th>Purchase</th>\n",
       "    </tr>\n",
       "  </thead>\n",
       "  <tbody>\n",
       "    <tr>\n",
       "      <th>0</th>\n",
       "      <td>1000001</td>\n",
       "      <td>P00069042</td>\n",
       "      <td>F</td>\n",
       "      <td>0-17</td>\n",
       "      <td>10</td>\n",
       "      <td>A</td>\n",
       "      <td>2</td>\n",
       "      <td>0</td>\n",
       "      <td>3</td>\n",
       "      <td>NaN</td>\n",
       "      <td>NaN</td>\n",
       "      <td>8370</td>\n",
       "    </tr>\n",
       "    <tr>\n",
       "      <th>1</th>\n",
       "      <td>1000001</td>\n",
       "      <td>P00248942</td>\n",
       "      <td>F</td>\n",
       "      <td>0-17</td>\n",
       "      <td>10</td>\n",
       "      <td>A</td>\n",
       "      <td>2</td>\n",
       "      <td>0</td>\n",
       "      <td>1</td>\n",
       "      <td>6.0</td>\n",
       "      <td>14.0</td>\n",
       "      <td>15200</td>\n",
       "    </tr>\n",
       "    <tr>\n",
       "      <th>2</th>\n",
       "      <td>1000001</td>\n",
       "      <td>P00087842</td>\n",
       "      <td>F</td>\n",
       "      <td>0-17</td>\n",
       "      <td>10</td>\n",
       "      <td>A</td>\n",
       "      <td>2</td>\n",
       "      <td>0</td>\n",
       "      <td>12</td>\n",
       "      <td>NaN</td>\n",
       "      <td>NaN</td>\n",
       "      <td>1422</td>\n",
       "    </tr>\n",
       "    <tr>\n",
       "      <th>3</th>\n",
       "      <td>1000001</td>\n",
       "      <td>P00085442</td>\n",
       "      <td>F</td>\n",
       "      <td>0-17</td>\n",
       "      <td>10</td>\n",
       "      <td>A</td>\n",
       "      <td>2</td>\n",
       "      <td>0</td>\n",
       "      <td>12</td>\n",
       "      <td>14.0</td>\n",
       "      <td>NaN</td>\n",
       "      <td>1057</td>\n",
       "    </tr>\n",
       "    <tr>\n",
       "      <th>4</th>\n",
       "      <td>1000002</td>\n",
       "      <td>P00285442</td>\n",
       "      <td>M</td>\n",
       "      <td>55+</td>\n",
       "      <td>16</td>\n",
       "      <td>C</td>\n",
       "      <td>4+</td>\n",
       "      <td>0</td>\n",
       "      <td>8</td>\n",
       "      <td>NaN</td>\n",
       "      <td>NaN</td>\n",
       "      <td>7969</td>\n",
       "    </tr>\n",
       "  </tbody>\n",
       "</table>\n",
       "</div>"
      ],
      "text/plain": [
       "   User_ID Product_ID Gender   Age  Occupation City_Category  \\\n",
       "0  1000001  P00069042      F  0-17          10             A   \n",
       "1  1000001  P00248942      F  0-17          10             A   \n",
       "2  1000001  P00087842      F  0-17          10             A   \n",
       "3  1000001  P00085442      F  0-17          10             A   \n",
       "4  1000002  P00285442      M   55+          16             C   \n",
       "\n",
       "  Stay_In_Current_City_Years  Marital_Status  Product_Category_1  \\\n",
       "0                          2               0                   3   \n",
       "1                          2               0                   1   \n",
       "2                          2               0                  12   \n",
       "3                          2               0                  12   \n",
       "4                         4+               0                   8   \n",
       "\n",
       "   Product_Category_2  Product_Category_3  Purchase  \n",
       "0                 NaN                 NaN      8370  \n",
       "1                 6.0                14.0     15200  \n",
       "2                 NaN                 NaN      1422  \n",
       "3                14.0                 NaN      1057  \n",
       "4                 NaN                 NaN      7969  "
      ]
     },
     "execution_count": 2,
     "metadata": {},
     "output_type": "execute_result"
    }
   ],
   "source": [
    "## importing the train dataset\n",
    "Data_train = pd.read_csv ('C:/Users/krrish/Documents/projects/black friday project/train/train.csv')\n",
    "Data_train.head()"
   ]
  },
  {
   "cell_type": "code",
   "execution_count": 5,
   "id": "b4de9286",
   "metadata": {},
   "outputs": [
    {
     "data": {
      "text/html": [
       "<div>\n",
       "<style scoped>\n",
       "    .dataframe tbody tr th:only-of-type {\n",
       "        vertical-align: middle;\n",
       "    }\n",
       "\n",
       "    .dataframe tbody tr th {\n",
       "        vertical-align: top;\n",
       "    }\n",
       "\n",
       "    .dataframe thead th {\n",
       "        text-align: right;\n",
       "    }\n",
       "</style>\n",
       "<table border=\"1\" class=\"dataframe\">\n",
       "  <thead>\n",
       "    <tr style=\"text-align: right;\">\n",
       "      <th></th>\n",
       "      <th>User_ID</th>\n",
       "      <th>Product_ID</th>\n",
       "      <th>Gender</th>\n",
       "      <th>Age</th>\n",
       "      <th>Occupation</th>\n",
       "      <th>City_Category</th>\n",
       "      <th>Stay_In_Current_City_Years</th>\n",
       "      <th>Marital_Status</th>\n",
       "      <th>Product_Category_1</th>\n",
       "      <th>Product_Category_2</th>\n",
       "      <th>Product_Category_3</th>\n",
       "    </tr>\n",
       "  </thead>\n",
       "  <tbody>\n",
       "    <tr>\n",
       "      <th>0</th>\n",
       "      <td>1000004</td>\n",
       "      <td>P00128942</td>\n",
       "      <td>M</td>\n",
       "      <td>46-50</td>\n",
       "      <td>7</td>\n",
       "      <td>B</td>\n",
       "      <td>2</td>\n",
       "      <td>1</td>\n",
       "      <td>1</td>\n",
       "      <td>11.0</td>\n",
       "      <td>NaN</td>\n",
       "    </tr>\n",
       "    <tr>\n",
       "      <th>1</th>\n",
       "      <td>1000009</td>\n",
       "      <td>P00113442</td>\n",
       "      <td>M</td>\n",
       "      <td>26-35</td>\n",
       "      <td>17</td>\n",
       "      <td>C</td>\n",
       "      <td>0</td>\n",
       "      <td>0</td>\n",
       "      <td>3</td>\n",
       "      <td>5.0</td>\n",
       "      <td>NaN</td>\n",
       "    </tr>\n",
       "    <tr>\n",
       "      <th>2</th>\n",
       "      <td>1000010</td>\n",
       "      <td>P00288442</td>\n",
       "      <td>F</td>\n",
       "      <td>36-45</td>\n",
       "      <td>1</td>\n",
       "      <td>B</td>\n",
       "      <td>4+</td>\n",
       "      <td>1</td>\n",
       "      <td>5</td>\n",
       "      <td>14.0</td>\n",
       "      <td>NaN</td>\n",
       "    </tr>\n",
       "    <tr>\n",
       "      <th>3</th>\n",
       "      <td>1000010</td>\n",
       "      <td>P00145342</td>\n",
       "      <td>F</td>\n",
       "      <td>36-45</td>\n",
       "      <td>1</td>\n",
       "      <td>B</td>\n",
       "      <td>4+</td>\n",
       "      <td>1</td>\n",
       "      <td>4</td>\n",
       "      <td>9.0</td>\n",
       "      <td>NaN</td>\n",
       "    </tr>\n",
       "    <tr>\n",
       "      <th>4</th>\n",
       "      <td>1000011</td>\n",
       "      <td>P00053842</td>\n",
       "      <td>F</td>\n",
       "      <td>26-35</td>\n",
       "      <td>1</td>\n",
       "      <td>C</td>\n",
       "      <td>1</td>\n",
       "      <td>0</td>\n",
       "      <td>4</td>\n",
       "      <td>5.0</td>\n",
       "      <td>12.0</td>\n",
       "    </tr>\n",
       "  </tbody>\n",
       "</table>\n",
       "</div>"
      ],
      "text/plain": [
       "   User_ID Product_ID Gender    Age  Occupation City_Category  \\\n",
       "0  1000004  P00128942      M  46-50           7             B   \n",
       "1  1000009  P00113442      M  26-35          17             C   \n",
       "2  1000010  P00288442      F  36-45           1             B   \n",
       "3  1000010  P00145342      F  36-45           1             B   \n",
       "4  1000011  P00053842      F  26-35           1             C   \n",
       "\n",
       "  Stay_In_Current_City_Years  Marital_Status  Product_Category_1  \\\n",
       "0                          2               1                   1   \n",
       "1                          0               0                   3   \n",
       "2                         4+               1                   5   \n",
       "3                         4+               1                   4   \n",
       "4                          1               0                   4   \n",
       "\n",
       "   Product_Category_2  Product_Category_3  \n",
       "0                11.0                 NaN  \n",
       "1                 5.0                 NaN  \n",
       "2                14.0                 NaN  \n",
       "3                 9.0                 NaN  \n",
       "4                 5.0                12.0  "
      ]
     },
     "execution_count": 5,
     "metadata": {},
     "output_type": "execute_result"
    }
   ],
   "source": [
    "## importing the test data\n",
    "Data_test = pd.read_csv('C:/Users/krrish/Documents/projects/black friday project/test/test.csv')\n",
    "Data_test.head()"
   ]
  },
  {
   "cell_type": "code",
   "execution_count": 7,
   "id": "ca4c4412",
   "metadata": {},
   "outputs": [
    {
     "data": {
      "text/html": [
       "<div>\n",
       "<style scoped>\n",
       "    .dataframe tbody tr th:only-of-type {\n",
       "        vertical-align: middle;\n",
       "    }\n",
       "\n",
       "    .dataframe tbody tr th {\n",
       "        vertical-align: top;\n",
       "    }\n",
       "\n",
       "    .dataframe thead th {\n",
       "        text-align: right;\n",
       "    }\n",
       "</style>\n",
       "<table border=\"1\" class=\"dataframe\">\n",
       "  <thead>\n",
       "    <tr style=\"text-align: right;\">\n",
       "      <th></th>\n",
       "      <th>User_ID</th>\n",
       "      <th>Product_ID</th>\n",
       "      <th>Gender</th>\n",
       "      <th>Age</th>\n",
       "      <th>Occupation</th>\n",
       "      <th>City_Category</th>\n",
       "      <th>Stay_In_Current_City_Years</th>\n",
       "      <th>Marital_Status</th>\n",
       "      <th>Product_Category_1</th>\n",
       "      <th>Product_Category_2</th>\n",
       "      <th>Product_Category_3</th>\n",
       "      <th>Purchase</th>\n",
       "    </tr>\n",
       "  </thead>\n",
       "  <tbody>\n",
       "    <tr>\n",
       "      <th>0</th>\n",
       "      <td>1000001</td>\n",
       "      <td>P00069042</td>\n",
       "      <td>F</td>\n",
       "      <td>0-17</td>\n",
       "      <td>10</td>\n",
       "      <td>A</td>\n",
       "      <td>2</td>\n",
       "      <td>0</td>\n",
       "      <td>3</td>\n",
       "      <td>NaN</td>\n",
       "      <td>NaN</td>\n",
       "      <td>8370.0</td>\n",
       "    </tr>\n",
       "    <tr>\n",
       "      <th>1</th>\n",
       "      <td>1000001</td>\n",
       "      <td>P00248942</td>\n",
       "      <td>F</td>\n",
       "      <td>0-17</td>\n",
       "      <td>10</td>\n",
       "      <td>A</td>\n",
       "      <td>2</td>\n",
       "      <td>0</td>\n",
       "      <td>1</td>\n",
       "      <td>6.0</td>\n",
       "      <td>14.0</td>\n",
       "      <td>15200.0</td>\n",
       "    </tr>\n",
       "    <tr>\n",
       "      <th>2</th>\n",
       "      <td>1000001</td>\n",
       "      <td>P00087842</td>\n",
       "      <td>F</td>\n",
       "      <td>0-17</td>\n",
       "      <td>10</td>\n",
       "      <td>A</td>\n",
       "      <td>2</td>\n",
       "      <td>0</td>\n",
       "      <td>12</td>\n",
       "      <td>NaN</td>\n",
       "      <td>NaN</td>\n",
       "      <td>1422.0</td>\n",
       "    </tr>\n",
       "    <tr>\n",
       "      <th>3</th>\n",
       "      <td>1000001</td>\n",
       "      <td>P00085442</td>\n",
       "      <td>F</td>\n",
       "      <td>0-17</td>\n",
       "      <td>10</td>\n",
       "      <td>A</td>\n",
       "      <td>2</td>\n",
       "      <td>0</td>\n",
       "      <td>12</td>\n",
       "      <td>14.0</td>\n",
       "      <td>NaN</td>\n",
       "      <td>1057.0</td>\n",
       "    </tr>\n",
       "    <tr>\n",
       "      <th>4</th>\n",
       "      <td>1000002</td>\n",
       "      <td>P00285442</td>\n",
       "      <td>M</td>\n",
       "      <td>55+</td>\n",
       "      <td>16</td>\n",
       "      <td>C</td>\n",
       "      <td>4+</td>\n",
       "      <td>0</td>\n",
       "      <td>8</td>\n",
       "      <td>NaN</td>\n",
       "      <td>NaN</td>\n",
       "      <td>7969.0</td>\n",
       "    </tr>\n",
       "  </tbody>\n",
       "</table>\n",
       "</div>"
      ],
      "text/plain": [
       "   User_ID Product_ID Gender   Age  Occupation City_Category  \\\n",
       "0  1000001  P00069042      F  0-17          10             A   \n",
       "1  1000001  P00248942      F  0-17          10             A   \n",
       "2  1000001  P00087842      F  0-17          10             A   \n",
       "3  1000001  P00085442      F  0-17          10             A   \n",
       "4  1000002  P00285442      M   55+          16             C   \n",
       "\n",
       "  Stay_In_Current_City_Years  Marital_Status  Product_Category_1  \\\n",
       "0                          2               0                   3   \n",
       "1                          2               0                   1   \n",
       "2                          2               0                  12   \n",
       "3                          2               0                  12   \n",
       "4                         4+               0                   8   \n",
       "\n",
       "   Product_Category_2  Product_Category_3  Purchase  \n",
       "0                 NaN                 NaN    8370.0  \n",
       "1                 6.0                14.0   15200.0  \n",
       "2                 NaN                 NaN    1422.0  \n",
       "3                14.0                 NaN    1057.0  \n",
       "4                 NaN                 NaN    7969.0  "
      ]
     },
     "execution_count": 7,
     "metadata": {},
     "output_type": "execute_result"
    }
   ],
   "source": [
    "## Merging both train and test data\n",
    "Data=Data_train.append(Data_test)\n",
    "Data.head()"
   ]
  },
  {
   "cell_type": "code",
   "execution_count": 8,
   "id": "38e8bba9",
   "metadata": {},
   "outputs": [
    {
     "name": "stdout",
     "output_type": "stream",
     "text": [
      "<class 'pandas.core.frame.DataFrame'>\n",
      "Int64Index: 783667 entries, 0 to 233598\n",
      "Data columns (total 12 columns):\n",
      " #   Column                      Non-Null Count   Dtype  \n",
      "---  ------                      --------------   -----  \n",
      " 0   User_ID                     783667 non-null  int64  \n",
      " 1   Product_ID                  783667 non-null  object \n",
      " 2   Gender                      783667 non-null  object \n",
      " 3   Age                         783667 non-null  object \n",
      " 4   Occupation                  783667 non-null  int64  \n",
      " 5   City_Category               783667 non-null  object \n",
      " 6   Stay_In_Current_City_Years  783667 non-null  object \n",
      " 7   Marital_Status              783667 non-null  int64  \n",
      " 8   Product_Category_1          783667 non-null  int64  \n",
      " 9   Product_Category_2          537685 non-null  float64\n",
      " 10  Product_Category_3          237858 non-null  float64\n",
      " 11  Purchase                    550068 non-null  float64\n",
      "dtypes: float64(3), int64(4), object(5)\n",
      "memory usage: 77.7+ MB\n"
     ]
    }
   ],
   "source": [
    "Data.info()"
   ]
  },
  {
   "cell_type": "code",
   "execution_count": 9,
   "id": "9e27d8e3",
   "metadata": {},
   "outputs": [
    {
     "data": {
      "text/plain": [
       "(783667, 12)"
      ]
     },
     "execution_count": 9,
     "metadata": {},
     "output_type": "execute_result"
    }
   ],
   "source": [
    "## dimensions of the dataset\n",
    "Data.shape"
   ]
  },
  {
   "cell_type": "markdown",
   "id": "8761a5de",
   "metadata": {},
   "source": [
    "## Visualization"
   ]
  },
  {
   "cell_type": "markdown",
   "id": "1dfe589f",
   "metadata": {},
   "source": [
    "##### Comment : As we know that \"Product Id\" and \"User_ID\" both are not usable for eda ,so we drop them. "
   ]
  },
  {
   "cell_type": "code",
   "execution_count": 10,
   "id": "6a7e4833",
   "metadata": {},
   "outputs": [],
   "source": [
    "Data.drop (columns = ['User_ID', 'Product_ID'], inplace = True)"
   ]
  },
  {
   "cell_type": "code",
   "execution_count": 11,
   "id": "9ec9ad0c",
   "metadata": {},
   "outputs": [
    {
     "data": {
      "text/plain": [
       "M    590031\n",
       "F    193636\n",
       "Name: Gender, dtype: int64"
      ]
     },
     "execution_count": 11,
     "metadata": {},
     "output_type": "execute_result"
    }
   ],
   "source": [
    "Data ['Gender'].value_counts(dropna = False)"
   ]
  },
  {
   "cell_type": "code",
   "execution_count": 12,
   "id": "01f2b430",
   "metadata": {},
   "outputs": [
    {
     "data": {
      "text/plain": [
       "26-35    313015\n",
       "36-45    156724\n",
       "18-25    141953\n",
       "46-50     65278\n",
       "51-55     54784\n",
       "55+       30579\n",
       "0-17      21334\n",
       "Name: Age, dtype: int64"
      ]
     },
     "execution_count": 12,
     "metadata": {},
     "output_type": "execute_result"
    }
   ],
   "source": [
    "Data ['Age'].value_counts(dropna = False)"
   ]
  },
  {
   "cell_type": "code",
   "execution_count": 14,
   "id": "19f6e6b8",
   "metadata": {},
   "outputs": [
    {
     "data": {
      "text/plain": [
       "Text(0.5, 1.0, 'Diversity of the Ages of Customers.')"
      ]
     },
     "execution_count": 14,
     "metadata": {},
     "output_type": "execute_result"
    },
    {
     "data": {
      "image/png": "[encoded data removed]",
      "text/plain": [
       "<Figure size 864x432 with 1 Axes>"
      ]
     },
     "metadata": {
      "needs_background": "light"
     },
     "output_type": "display_data"
    }
   ],
   "source": [
    "plt.figure(figsize=(12,6))\n",
    "sns.countplot(x='Age',data=Data, palette='rocket_r')\n",
    "plt.title(\"Diversity of the Ages of Customers.\", size =15)"
   ]
  },
  {
   "cell_type": "markdown",
   "id": "df462111",
   "metadata": {},
   "source": [
    "ANALYSIS: As per the above analysis, we can see various age groups, but the youth are participating the most.\n"
   ]
  },
  {
   "cell_type": "code",
   "execution_count": 9,
   "id": "96691ad1",
   "metadata": {},
   "outputs": [
    {
     "data": {
      "text/plain": [
       "5     150933\n",
       "1     140378\n",
       "8     113925\n",
       "11     24287\n",
       "2      23864\n",
       "6      20466\n",
       "3      20213\n",
       "4      11753\n",
       "16      9828\n",
       "15      6290\n",
       "13      5549\n",
       "10      5125\n",
       "12      3947\n",
       "7       3721\n",
       "18      3125\n",
       "20      2550\n",
       "19      1603\n",
       "14      1523\n",
       "17       578\n",
       "9        410\n",
       "Name: Product_Category_1, dtype: int64"
      ]
     },
     "execution_count": 9,
     "metadata": {},
     "output_type": "execute_result"
    }
   ],
   "source": [
    "Data ['Product_Category_1'].value_counts(dropna = False)"
   ]
  },
  {
   "cell_type": "code",
   "execution_count": 10,
   "id": "ad5a79a4",
   "metadata": {},
   "outputs": [
    {
     "data": {
      "text/plain": [
       "<AxesSubplot:>"
      ]
     },
     "execution_count": 10,
     "metadata": {},
     "output_type": "execute_result"
    },
    {
     "data": {
      "image/png": "[encoded data removed]",
      "text/plain": [
       "<Figure size 432x288 with 1 Axes>"
      ]
     },
     "metadata": {
      "needs_background": "light"
     },
     "output_type": "display_data"
    }
   ],
   "source": [
    "Data ['Product_Category_1'].value_counts().plot(kind ='bar')"
   ]
  },
  {
   "cell_type": "markdown",
   "id": "bb55e0b0",
   "metadata": {},
   "source": [
    "Comment : As per the above analysis category 5 of 'Product_Catergory_1' has the maximum count which is 150933 and category 9 has the minimum count which is 410. As of now we cannot assume that which kind of product falls under this category."
   ]
  },
  {
   "cell_type": "code",
   "execution_count": 11,
   "id": "66324cc0",
   "metadata": {},
   "outputs": [
    {
     "data": {
      "text/plain": [
       "<AxesSubplot:>"
      ]
     },
     "execution_count": 11,
     "metadata": {},
     "output_type": "execute_result"
    },
    {
     "data": {
      "image/png": "[encoded data removed]",
      "text/plain": [
       "<Figure size 432x288 with 1 Axes>"
      ]
     },
     "metadata": {
      "needs_background": "light"
     },
     "output_type": "display_data"
    }
   ],
   "source": [
    "Data ['Product_Category_2'].value_counts(dropna = False).plot (kind ='bar')"
   ]
  },
  {
   "cell_type": "code",
   "execution_count": 12,
   "id": "95e341bd",
   "metadata": {},
   "outputs": [
    {
     "data": {
      "text/plain": [
       "<AxesSubplot:>"
      ]
     },
     "execution_count": 12,
     "metadata": {},
     "output_type": "execute_result"
    },
    {
     "data": {
      "image/png": "[encoded data removed]",
      "text/plain": [
       "<Figure size 432x288 with 1 Axes>"
      ]
     },
     "metadata": {
      "needs_background": "light"
     },
     "output_type": "display_data"
    }
   ],
   "source": [
    "Data ['Product_Category_3'].value_counts(dropna = False).plot(kind = 'bar')"
   ]
  },
  {
   "cell_type": "markdown",
   "id": "a9aa7854",
   "metadata": {},
   "source": [
    "ANALYSIS : As per the above 2 graph's analysis, we can see that the maximum count of product categories are unknown, filled with NaN, means these are missing values. We can replace null values with a special number so as to predict the data correctly. We cannot drop the null values here."
   ]
  },
  {
   "cell_type": "code",
   "execution_count": 13,
   "id": "afae02a7",
   "metadata": {
    "scrolled": false
   },
   "outputs": [
    {
     "name": "stderr",
     "output_type": "stream",
     "text": [
      "C:\\python\\lib\\site-packages\\seaborn\\distributions.py:2557: FutureWarning: `distplot` is a deprecated function and will be removed in a future version. Please adapt your code to use either `displot` (a figure-level function with similar flexibility) or `histplot` (an axes-level function for histograms).\n",
      "  warnings.warn(msg, FutureWarning)\n"
     ]
    },
    {
     "data": {
      "text/plain": [
       "<AxesSubplot:title={'center':'Plotting the Purchase during the Black Friday sale.'}, xlabel='Purchase', ylabel='Density'>"
      ]
     },
     "execution_count": 13,
     "metadata": {},
     "output_type": "execute_result"
    },
    {
     "data": {
      "image/png": "[encoded data removed]",
      "text/plain": [
       "<Figure size 720x432 with 1 Axes>"
      ]
     },
     "metadata": {
      "needs_background": "light"
     },
     "output_type": "display_data"
    }
   ],
   "source": [
    "plt.figure(figsize=(10, 6))\n",
    "plt.title('Plotting the Purchase during the Black Friday sale.', size = 15)\n",
    "sns.distplot(Data['Purchase'], bins=25 , color ='lightpink')"
   ]
  },
  {
   "cell_type": "markdown",
   "id": "085cc536",
   "metadata": {},
   "source": [
    "this plot is representing that maximum purchase is between 5000-10000."
   ]
  },
  {
   "cell_type": "code",
   "execution_count": 14,
   "id": "38dc7527",
   "metadata": {},
   "outputs": [
    {
     "data": {
      "text/plain": [
       "Text(0.5, 1.0, 'Types of cities regarding customers.')"
      ]
     },
     "execution_count": 14,
     "metadata": {},
     "output_type": "execute_result"
    },
    {
     "data": {
      "image/png": "[encoded data removed]",
      "text/plain": [
       "<Figure size 864x360 with 1 Axes>"
      ]
     },
     "metadata": {
      "needs_background": "light"
     },
     "output_type": "display_data"
    }
   ],
   "source": [
    "plt.figure(figsize=(12,5))\n",
    "sns.countplot(x='City_Category',data=Data, palette='vlag')\n",
    "plt.title(\"Types of cities regarding customers.\", size =15)"
   ]
  },
  {
   "cell_type": "code",
   "execution_count": 15,
   "id": "d6250f64",
   "metadata": {},
   "outputs": [
    {
     "data": {
      "image/png": "[encoded data removed]",
      "text/plain": [
       "<Figure size 1008x432 with 1 Axes>"
      ]
     },
     "metadata": {
      "needs_background": "light"
     },
     "output_type": "display_data"
    }
   ],
   "source": [
    "plt.figure(figsize=[14,6])\n",
    "\n",
    "sns.barplot(data=Data,x='Product_Category_1',y='Purchase',hue='Marital_Status')\n",
    "\n",
    "plt.title(\"Purchase of Product Category 1 according to Marital Status.\", size =15)\n",
    "\n",
    "plt.show()"
   ]
  },
  {
   "cell_type": "code",
   "execution_count": 16,
   "id": "0a39f71a",
   "metadata": {},
   "outputs": [
    {
     "data": {
      "text/plain": [
       "Text(0.5, 1.0, 'Staying in the city for years more than...')"
      ]
     },
     "execution_count": 16,
     "metadata": {},
     "output_type": "execute_result"
    },
    {
     "data": {
      "image/png": "[encoded data removed]",
      "text/plain": [
       "<Figure size 864x360 with 1 Axes>"
      ]
     },
     "metadata": {
      "needs_background": "light"
     },
     "output_type": "display_data"
    }
   ],
   "source": [
    "plt.figure(figsize=(12,5))\n",
    "sns.countplot(x='Stay_In_Current_City_Years',data=Data, palette='afmhot_r')\n",
    "sns.set_context('notebook')\n",
    "plt.title(\"Staying in the city for years more than...\", size =15)"
   ]
  },
  {
   "cell_type": "code",
   "execution_count": 17,
   "id": "1e80544f",
   "metadata": {},
   "outputs": [
    {
     "data": {
      "text/plain": [
       "Text(0.5, 1.0, 'Ratio of Purchase Made By Gender')"
      ]
     },
     "execution_count": 17,
     "metadata": {},
     "output_type": "execute_result"
    },
    {
     "data": {
      "image/png": "[encoded data removed]",
      "text/plain": [
       "<Figure size 360x360 with 1 Axes>"
      ]
     },
     "metadata": {},
     "output_type": "display_data"
    }
   ],
   "source": [
    "sns.set(style= \"darkgrid\")\n",
    "sns.catplot(x=\"Gender\", kind=\"count\",data=Data);\n",
    "plt.title('Ratio of Purchase Made By Gender', size =15)"
   ]
  },
  {
   "cell_type": "code",
   "execution_count": 15,
   "id": "6ead5eb3",
   "metadata": {},
   "outputs": [
    {
     "name": "stderr",
     "output_type": "stream",
     "text": [
      "C:\\python\\lib\\site-packages\\seaborn\\_decorators.py:36: FutureWarning: Pass the following variables as keyword args: x, y. From version 0.12, the only valid positional argument will be `data`, and passing other arguments without an explicit keyword will result in an error or misinterpretation.\n",
      "  warnings.warn(\n"
     ]
    },
    {
     "data": {
      "text/plain": [
       "<AxesSubplot:xlabel='Age', ylabel='Purchase'>"
      ]
     },
     "execution_count": 15,
     "metadata": {},
     "output_type": "execute_result"
    },
    {
     "data": {
      "image/png": "[encoded data removed]",
      "text/plain": [
       "<Figure size 432x288 with 1 Axes>"
      ]
     },
     "metadata": {
      "needs_background": "light"
     },
     "output_type": "display_data"
    }
   ],
   "source": [
    "##Visualisation Age vs Purchased\n",
    "sns.barplot('Age','Purchase',hue='Gender',data=Data)"
   ]
  },
  {
   "cell_type": "markdown",
   "id": "1eb2598e",
   "metadata": {},
   "source": [
    "Purchasing of men is high then women"
   ]
  },
  {
   "cell_type": "code",
   "execution_count": null,
   "id": "17c54064",
   "metadata": {},
   "outputs": [],
   "source": []
  },
  {
   "cell_type": "markdown",
   "id": "0f8e1386",
   "metadata": {},
   "source": [
    "### MISSING VALUE TREATMENT"
   ]
  },
  {
   "cell_type": "code",
   "execution_count": 24,
   "id": "2ca80938",
   "metadata": {},
   "outputs": [],
   "source": [
    "df1 = Data.copy()"
   ]
  },
  {
   "cell_type": "code",
   "execution_count": 25,
   "id": "d0f4d315",
   "metadata": {},
   "outputs": [],
   "source": [
    "## Replacing the missing values in Product_category 2 and 3 \n",
    "df1['Product_Category_2'] =df1['Product_Category_2'].fillna(999).astype('int64')\n",
    "df1['Product_Category_3'] =df1['Product_Category_3'].fillna(999).astype('int64')"
   ]
  },
  {
   "cell_type": "code",
   "execution_count": 26,
   "id": "a5ce524f",
   "metadata": {},
   "outputs": [],
   "source": [
    "# removing special characters, like (+) in Stay_In_Current_City_Years column\n",
    "df1['Stay_In_Current_City_Years'] =df1.Stay_In_Current_City_Years.replace('4+', 4)\n",
    "df1['Stay_In_Current_City_Years']=df1['Stay_In_Current_City_Years'].astype(int)"
   ]
  },
  {
   "cell_type": "code",
   "execution_count": 27,
   "id": "fee74035",
   "metadata": {},
   "outputs": [],
   "source": [
    "##Handling categorical feature Gender\n",
    "df1['Gender']=df1['Gender'].map({'F':0,'M':1})"
   ]
  },
  {
   "cell_type": "code",
   "execution_count": 28,
   "id": "1224c281",
   "metadata": {},
   "outputs": [
    {
     "data": {
      "text/plain": [
       "array(['0-17', '55+', '26-35', '46-50', '51-55', '36-45', '18-25'],\n",
       "      dtype=object)"
      ]
     },
     "execution_count": 28,
     "metadata": {},
     "output_type": "execute_result"
    }
   ],
   "source": [
    "## Handle categorical feature Age\n",
    "df1['Age'].unique()"
   ]
  },
  {
   "cell_type": "code",
   "execution_count": 29,
   "id": "d6c08fe8",
   "metadata": {},
   "outputs": [
    {
     "data": {
      "text/plain": [
       "array([0, 6, 2, 4, 5, 3, 1])"
      ]
     },
     "execution_count": 29,
     "metadata": {},
     "output_type": "execute_result"
    }
   ],
   "source": [
    "from sklearn import preprocessing\n",
    " \n",
    "# label_encoder object knows how to understand word labels.\n",
    "label_encoder = preprocessing.LabelEncoder()\n",
    " \n",
    "df1['Age']= label_encoder.fit_transform(df1['Age'])\n",
    " \n",
    "df1['Age'].unique()"
   ]
  },
  {
   "cell_type": "code",
   "execution_count": 30,
   "id": "e1cf435a",
   "metadata": {},
   "outputs": [],
   "source": [
    "##fixing categorical feature City_category\n",
    "df2 = pd.get_dummies(df1,columns=['City_Category'],drop_first=True)"
   ]
  },
  {
   "cell_type": "code",
   "execution_count": 31,
   "id": "0672e390",
   "metadata": {},
   "outputs": [
    {
     "data": {
      "text/html": [
       "<div>\n",
       "<style scoped>\n",
       "    .dataframe tbody tr th:only-of-type {\n",
       "        vertical-align: middle;\n",
       "    }\n",
       "\n",
       "    .dataframe tbody tr th {\n",
       "        vertical-align: top;\n",
       "    }\n",
       "\n",
       "    .dataframe thead th {\n",
       "        text-align: right;\n",
       "    }\n",
       "</style>\n",
       "<table border=\"1\" class=\"dataframe\">\n",
       "  <thead>\n",
       "    <tr style=\"text-align: right;\">\n",
       "      <th></th>\n",
       "      <th>Gender</th>\n",
       "      <th>Age</th>\n",
       "      <th>Occupation</th>\n",
       "      <th>Stay_In_Current_City_Years</th>\n",
       "      <th>Marital_Status</th>\n",
       "      <th>Product_Category_1</th>\n",
       "      <th>Product_Category_2</th>\n",
       "      <th>Product_Category_3</th>\n",
       "      <th>Purchase</th>\n",
       "      <th>City_Category_B</th>\n",
       "      <th>City_Category_C</th>\n",
       "    </tr>\n",
       "  </thead>\n",
       "  <tbody>\n",
       "    <tr>\n",
       "      <th>0</th>\n",
       "      <td>0</td>\n",
       "      <td>0</td>\n",
       "      <td>10</td>\n",
       "      <td>2</td>\n",
       "      <td>0</td>\n",
       "      <td>3</td>\n",
       "      <td>999</td>\n",
       "      <td>999</td>\n",
       "      <td>8370.0</td>\n",
       "      <td>0</td>\n",
       "      <td>0</td>\n",
       "    </tr>\n",
       "    <tr>\n",
       "      <th>1</th>\n",
       "      <td>0</td>\n",
       "      <td>0</td>\n",
       "      <td>10</td>\n",
       "      <td>2</td>\n",
       "      <td>0</td>\n",
       "      <td>1</td>\n",
       "      <td>6</td>\n",
       "      <td>14</td>\n",
       "      <td>15200.0</td>\n",
       "      <td>0</td>\n",
       "      <td>0</td>\n",
       "    </tr>\n",
       "    <tr>\n",
       "      <th>2</th>\n",
       "      <td>0</td>\n",
       "      <td>0</td>\n",
       "      <td>10</td>\n",
       "      <td>2</td>\n",
       "      <td>0</td>\n",
       "      <td>12</td>\n",
       "      <td>999</td>\n",
       "      <td>999</td>\n",
       "      <td>1422.0</td>\n",
       "      <td>0</td>\n",
       "      <td>0</td>\n",
       "    </tr>\n",
       "    <tr>\n",
       "      <th>3</th>\n",
       "      <td>0</td>\n",
       "      <td>0</td>\n",
       "      <td>10</td>\n",
       "      <td>2</td>\n",
       "      <td>0</td>\n",
       "      <td>12</td>\n",
       "      <td>14</td>\n",
       "      <td>999</td>\n",
       "      <td>1057.0</td>\n",
       "      <td>0</td>\n",
       "      <td>0</td>\n",
       "    </tr>\n",
       "    <tr>\n",
       "      <th>4</th>\n",
       "      <td>1</td>\n",
       "      <td>6</td>\n",
       "      <td>16</td>\n",
       "      <td>4</td>\n",
       "      <td>0</td>\n",
       "      <td>8</td>\n",
       "      <td>999</td>\n",
       "      <td>999</td>\n",
       "      <td>7969.0</td>\n",
       "      <td>0</td>\n",
       "      <td>1</td>\n",
       "    </tr>\n",
       "  </tbody>\n",
       "</table>\n",
       "</div>"
      ],
      "text/plain": [
       "   Gender  Age  Occupation  Stay_In_Current_City_Years  Marital_Status  \\\n",
       "0       0    0          10                           2               0   \n",
       "1       0    0          10                           2               0   \n",
       "2       0    0          10                           2               0   \n",
       "3       0    0          10                           2               0   \n",
       "4       1    6          16                           4               0   \n",
       "\n",
       "   Product_Category_1  Product_Category_2  Product_Category_3  Purchase  \\\n",
       "0                   3                 999                 999    8370.0   \n",
       "1                   1                   6                  14   15200.0   \n",
       "2                  12                 999                 999    1422.0   \n",
       "3                  12                  14                 999    1057.0   \n",
       "4                   8                 999                 999    7969.0   \n",
       "\n",
       "   City_Category_B  City_Category_C  \n",
       "0                0                0  \n",
       "1                0                0  \n",
       "2                0                0  \n",
       "3                0                0  \n",
       "4                0                1  "
      ]
     },
     "execution_count": 31,
     "metadata": {},
     "output_type": "execute_result"
    }
   ],
   "source": [
    "df2.head()"
   ]
  },
  {
   "cell_type": "code",
   "execution_count": 32,
   "id": "6c5a98cb",
   "metadata": {},
   "outputs": [
    {
     "data": {
      "text/plain": [
       "Gender                          int64\n",
       "Age                             int32\n",
       "Occupation                      int64\n",
       "Stay_In_Current_City_Years      int32\n",
       "Marital_Status                  int64\n",
       "Product_Category_1              int64\n",
       "Product_Category_2              int64\n",
       "Product_Category_3              int64\n",
       "Purchase                      float64\n",
       "City_Category_B                 uint8\n",
       "City_Category_C                 uint8\n",
       "dtype: object"
      ]
     },
     "execution_count": 32,
     "metadata": {},
     "output_type": "execute_result"
    }
   ],
   "source": [
    "df2.dtypes"
   ]
  },
  {
   "cell_type": "markdown",
   "id": "24998d06",
   "metadata": {},
   "source": [
    "## outlier treatment"
   ]
  },
  {
   "cell_type": "code",
   "execution_count": 33,
   "id": "0ec0bbf6",
   "metadata": {},
   "outputs": [
    {
     "data": {
      "text/html": [
       "<div>\n",
       "<style scoped>\n",
       "    .dataframe tbody tr th:only-of-type {\n",
       "        vertical-align: middle;\n",
       "    }\n",
       "\n",
       "    .dataframe tbody tr th {\n",
       "        vertical-align: top;\n",
       "    }\n",
       "\n",
       "    .dataframe thead th {\n",
       "        text-align: right;\n",
       "    }\n",
       "</style>\n",
       "<table border=\"1\" class=\"dataframe\">\n",
       "  <thead>\n",
       "    <tr style=\"text-align: right;\">\n",
       "      <th></th>\n",
       "      <th>count</th>\n",
       "      <th>mean</th>\n",
       "      <th>std</th>\n",
       "      <th>min</th>\n",
       "      <th>1%</th>\n",
       "      <th>2%</th>\n",
       "      <th>3%</th>\n",
       "      <th>4%</th>\n",
       "      <th>5%</th>\n",
       "      <th>10%</th>\n",
       "      <th>25%</th>\n",
       "      <th>50%</th>\n",
       "      <th>75%</th>\n",
       "      <th>90%</th>\n",
       "      <th>95%</th>\n",
       "      <th>96%</th>\n",
       "      <th>97%</th>\n",
       "      <th>98%</th>\n",
       "      <th>99%</th>\n",
       "      <th>max</th>\n",
       "    </tr>\n",
       "  </thead>\n",
       "  <tbody>\n",
       "    <tr>\n",
       "      <th>Gender</th>\n",
       "      <td>783667.0</td>\n",
       "      <td>0.752910</td>\n",
       "      <td>0.431320</td>\n",
       "      <td>0.0</td>\n",
       "      <td>0.0</td>\n",
       "      <td>0.0</td>\n",
       "      <td>0.0</td>\n",
       "      <td>0.0</td>\n",
       "      <td>0.0</td>\n",
       "      <td>0.0</td>\n",
       "      <td>1.0</td>\n",
       "      <td>1.0</td>\n",
       "      <td>1.0</td>\n",
       "      <td>1.0</td>\n",
       "      <td>1.0</td>\n",
       "      <td>1.0</td>\n",
       "      <td>1.0</td>\n",
       "      <td>1.00</td>\n",
       "      <td>1.0</td>\n",
       "      <td>1.0</td>\n",
       "    </tr>\n",
       "    <tr>\n",
       "      <th>Age</th>\n",
       "      <td>783667.0</td>\n",
       "      <td>2.496802</td>\n",
       "      <td>1.352736</td>\n",
       "      <td>0.0</td>\n",
       "      <td>0.0</td>\n",
       "      <td>0.0</td>\n",
       "      <td>1.0</td>\n",
       "      <td>1.0</td>\n",
       "      <td>1.0</td>\n",
       "      <td>1.0</td>\n",
       "      <td>2.0</td>\n",
       "      <td>2.0</td>\n",
       "      <td>3.0</td>\n",
       "      <td>5.0</td>\n",
       "      <td>5.0</td>\n",
       "      <td>5.0</td>\n",
       "      <td>6.0</td>\n",
       "      <td>6.00</td>\n",
       "      <td>6.0</td>\n",
       "      <td>6.0</td>\n",
       "    </tr>\n",
       "    <tr>\n",
       "      <th>Occupation</th>\n",
       "      <td>783667.0</td>\n",
       "      <td>8.079300</td>\n",
       "      <td>6.522206</td>\n",
       "      <td>0.0</td>\n",
       "      <td>0.0</td>\n",
       "      <td>0.0</td>\n",
       "      <td>0.0</td>\n",
       "      <td>0.0</td>\n",
       "      <td>0.0</td>\n",
       "      <td>0.0</td>\n",
       "      <td>2.0</td>\n",
       "      <td>7.0</td>\n",
       "      <td>14.0</td>\n",
       "      <td>17.0</td>\n",
       "      <td>20.0</td>\n",
       "      <td>20.0</td>\n",
       "      <td>20.0</td>\n",
       "      <td>20.00</td>\n",
       "      <td>20.0</td>\n",
       "      <td>20.0</td>\n",
       "    </tr>\n",
       "    <tr>\n",
       "      <th>Stay_In_Current_City_Years</th>\n",
       "      <td>783667.0</td>\n",
       "      <td>1.858247</td>\n",
       "      <td>1.288790</td>\n",
       "      <td>0.0</td>\n",
       "      <td>0.0</td>\n",
       "      <td>0.0</td>\n",
       "      <td>0.0</td>\n",
       "      <td>0.0</td>\n",
       "      <td>0.0</td>\n",
       "      <td>0.0</td>\n",
       "      <td>1.0</td>\n",
       "      <td>2.0</td>\n",
       "      <td>3.0</td>\n",
       "      <td>4.0</td>\n",
       "      <td>4.0</td>\n",
       "      <td>4.0</td>\n",
       "      <td>4.0</td>\n",
       "      <td>4.00</td>\n",
       "      <td>4.0</td>\n",
       "      <td>4.0</td>\n",
       "    </tr>\n",
       "    <tr>\n",
       "      <th>Marital_Status</th>\n",
       "      <td>783667.0</td>\n",
       "      <td>0.409777</td>\n",
       "      <td>0.491793</td>\n",
       "      <td>0.0</td>\n",
       "      <td>0.0</td>\n",
       "      <td>0.0</td>\n",
       "      <td>0.0</td>\n",
       "      <td>0.0</td>\n",
       "      <td>0.0</td>\n",
       "      <td>0.0</td>\n",
       "      <td>0.0</td>\n",
       "      <td>0.0</td>\n",
       "      <td>1.0</td>\n",
       "      <td>1.0</td>\n",
       "      <td>1.0</td>\n",
       "      <td>1.0</td>\n",
       "      <td>1.0</td>\n",
       "      <td>1.00</td>\n",
       "      <td>1.0</td>\n",
       "      <td>1.0</td>\n",
       "    </tr>\n",
       "    <tr>\n",
       "      <th>Product_Category_1</th>\n",
       "      <td>783667.0</td>\n",
       "      <td>5.366196</td>\n",
       "      <td>3.878160</td>\n",
       "      <td>1.0</td>\n",
       "      <td>1.0</td>\n",
       "      <td>1.0</td>\n",
       "      <td>1.0</td>\n",
       "      <td>1.0</td>\n",
       "      <td>1.0</td>\n",
       "      <td>1.0</td>\n",
       "      <td>1.0</td>\n",
       "      <td>5.0</td>\n",
       "      <td>8.0</td>\n",
       "      <td>11.0</td>\n",
       "      <td>13.0</td>\n",
       "      <td>15.0</td>\n",
       "      <td>15.0</td>\n",
       "      <td>16.00</td>\n",
       "      <td>18.0</td>\n",
       "      <td>20.0</td>\n",
       "    </tr>\n",
       "    <tr>\n",
       "      <th>Product_Category_2</th>\n",
       "      <td>783667.0</td>\n",
       "      <td>320.326441</td>\n",
       "      <td>459.057642</td>\n",
       "      <td>2.0</td>\n",
       "      <td>2.0</td>\n",
       "      <td>2.0</td>\n",
       "      <td>2.0</td>\n",
       "      <td>2.0</td>\n",
       "      <td>2.0</td>\n",
       "      <td>4.0</td>\n",
       "      <td>8.0</td>\n",
       "      <td>14.0</td>\n",
       "      <td>999.0</td>\n",
       "      <td>999.0</td>\n",
       "      <td>999.0</td>\n",
       "      <td>999.0</td>\n",
       "      <td>999.0</td>\n",
       "      <td>999.00</td>\n",
       "      <td>999.0</td>\n",
       "      <td>999.0</td>\n",
       "    </tr>\n",
       "    <tr>\n",
       "      <th>Product_Category_3</th>\n",
       "      <td>783667.0</td>\n",
       "      <td>699.629460</td>\n",
       "      <td>453.498920</td>\n",
       "      <td>3.0</td>\n",
       "      <td>5.0</td>\n",
       "      <td>5.0</td>\n",
       "      <td>5.0</td>\n",
       "      <td>6.0</td>\n",
       "      <td>8.0</td>\n",
       "      <td>12.0</td>\n",
       "      <td>16.0</td>\n",
       "      <td>999.0</td>\n",
       "      <td>999.0</td>\n",
       "      <td>999.0</td>\n",
       "      <td>999.0</td>\n",
       "      <td>999.0</td>\n",
       "      <td>999.0</td>\n",
       "      <td>999.00</td>\n",
       "      <td>999.0</td>\n",
       "      <td>999.0</td>\n",
       "    </tr>\n",
       "    <tr>\n",
       "      <th>Purchase</th>\n",
       "      <td>550068.0</td>\n",
       "      <td>9263.968713</td>\n",
       "      <td>5023.065394</td>\n",
       "      <td>12.0</td>\n",
       "      <td>587.0</td>\n",
       "      <td>954.0</td>\n",
       "      <td>1574.0</td>\n",
       "      <td>1789.0</td>\n",
       "      <td>1984.0</td>\n",
       "      <td>3540.0</td>\n",
       "      <td>5823.0</td>\n",
       "      <td>8047.0</td>\n",
       "      <td>12054.0</td>\n",
       "      <td>16317.0</td>\n",
       "      <td>19336.0</td>\n",
       "      <td>19480.0</td>\n",
       "      <td>19628.0</td>\n",
       "      <td>20202.66</td>\n",
       "      <td>20665.0</td>\n",
       "      <td>23961.0</td>\n",
       "    </tr>\n",
       "    <tr>\n",
       "      <th>City_Category_B</th>\n",
       "      <td>783667.0</td>\n",
       "      <td>0.420764</td>\n",
       "      <td>0.493682</td>\n",
       "      <td>0.0</td>\n",
       "      <td>0.0</td>\n",
       "      <td>0.0</td>\n",
       "      <td>0.0</td>\n",
       "      <td>0.0</td>\n",
       "      <td>0.0</td>\n",
       "      <td>0.0</td>\n",
       "      <td>0.0</td>\n",
       "      <td>0.0</td>\n",
       "      <td>1.0</td>\n",
       "      <td>1.0</td>\n",
       "      <td>1.0</td>\n",
       "      <td>1.0</td>\n",
       "      <td>1.0</td>\n",
       "      <td>1.00</td>\n",
       "      <td>1.0</td>\n",
       "      <td>1.0</td>\n",
       "    </tr>\n",
       "    <tr>\n",
       "      <th>City_Category_C</th>\n",
       "      <td>783667.0</td>\n",
       "      <td>0.310954</td>\n",
       "      <td>0.462884</td>\n",
       "      <td>0.0</td>\n",
       "      <td>0.0</td>\n",
       "      <td>0.0</td>\n",
       "      <td>0.0</td>\n",
       "      <td>0.0</td>\n",
       "      <td>0.0</td>\n",
       "      <td>0.0</td>\n",
       "      <td>0.0</td>\n",
       "      <td>0.0</td>\n",
       "      <td>1.0</td>\n",
       "      <td>1.0</td>\n",
       "      <td>1.0</td>\n",
       "      <td>1.0</td>\n",
       "      <td>1.0</td>\n",
       "      <td>1.00</td>\n",
       "      <td>1.0</td>\n",
       "      <td>1.0</td>\n",
       "    </tr>\n",
       "  </tbody>\n",
       "</table>\n",
       "</div>"
      ],
      "text/plain": [
       "                               count         mean          std   min     1%  \\\n",
       "Gender                      783667.0     0.752910     0.431320   0.0    0.0   \n",
       "Age                         783667.0     2.496802     1.352736   0.0    0.0   \n",
       "Occupation                  783667.0     8.079300     6.522206   0.0    0.0   \n",
       "Stay_In_Current_City_Years  783667.0     1.858247     1.288790   0.0    0.0   \n",
       "Marital_Status              783667.0     0.409777     0.491793   0.0    0.0   \n",
       "Product_Category_1          783667.0     5.366196     3.878160   1.0    1.0   \n",
       "Product_Category_2          783667.0   320.326441   459.057642   2.0    2.0   \n",
       "Product_Category_3          783667.0   699.629460   453.498920   3.0    5.0   \n",
       "Purchase                    550068.0  9263.968713  5023.065394  12.0  587.0   \n",
       "City_Category_B             783667.0     0.420764     0.493682   0.0    0.0   \n",
       "City_Category_C             783667.0     0.310954     0.462884   0.0    0.0   \n",
       "\n",
       "                               2%      3%      4%      5%     10%     25%  \\\n",
       "Gender                        0.0     0.0     0.0     0.0     0.0     1.0   \n",
       "Age                           0.0     1.0     1.0     1.0     1.0     2.0   \n",
       "Occupation                    0.0     0.0     0.0     0.0     0.0     2.0   \n",
       "Stay_In_Current_City_Years    0.0     0.0     0.0     0.0     0.0     1.0   \n",
       "Marital_Status                0.0     0.0     0.0     0.0     0.0     0.0   \n",
       "Product_Category_1            1.0     1.0     1.0     1.0     1.0     1.0   \n",
       "Product_Category_2            2.0     2.0     2.0     2.0     4.0     8.0   \n",
       "Product_Category_3            5.0     5.0     6.0     8.0    12.0    16.0   \n",
       "Purchase                    954.0  1574.0  1789.0  1984.0  3540.0  5823.0   \n",
       "City_Category_B               0.0     0.0     0.0     0.0     0.0     0.0   \n",
       "City_Category_C               0.0     0.0     0.0     0.0     0.0     0.0   \n",
       "\n",
       "                               50%      75%      90%      95%      96%  \\\n",
       "Gender                         1.0      1.0      1.0      1.0      1.0   \n",
       "Age                            2.0      3.0      5.0      5.0      5.0   \n",
       "Occupation                     7.0     14.0     17.0     20.0     20.0   \n",
       "Stay_In_Current_City_Years     2.0      3.0      4.0      4.0      4.0   \n",
       "Marital_Status                 0.0      1.0      1.0      1.0      1.0   \n",
       "Product_Category_1             5.0      8.0     11.0     13.0     15.0   \n",
       "Product_Category_2            14.0    999.0    999.0    999.0    999.0   \n",
       "Product_Category_3           999.0    999.0    999.0    999.0    999.0   \n",
       "Purchase                    8047.0  12054.0  16317.0  19336.0  19480.0   \n",
       "City_Category_B                0.0      1.0      1.0      1.0      1.0   \n",
       "City_Category_C                0.0      1.0      1.0      1.0      1.0   \n",
       "\n",
       "                                97%       98%      99%      max  \n",
       "Gender                          1.0      1.00      1.0      1.0  \n",
       "Age                             6.0      6.00      6.0      6.0  \n",
       "Occupation                     20.0     20.00     20.0     20.0  \n",
       "Stay_In_Current_City_Years      4.0      4.00      4.0      4.0  \n",
       "Marital_Status                  1.0      1.00      1.0      1.0  \n",
       "Product_Category_1             15.0     16.00     18.0     20.0  \n",
       "Product_Category_2            999.0    999.00    999.0    999.0  \n",
       "Product_Category_3            999.0    999.00    999.0    999.0  \n",
       "Purchase                    19628.0  20202.66  20665.0  23961.0  \n",
       "City_Category_B                 1.0      1.00      1.0      1.0  \n",
       "City_Category_C                 1.0      1.00      1.0      1.0  "
      ]
     },
     "execution_count": 33,
     "metadata": {},
     "output_type": "execute_result"
    }
   ],
   "source": [
    "df2.describe(percentiles=[0.01, 0.02, 0.03, 0.04, 0.05, .1, .25,.5,.75, .9,.95, .96, .97, .98, .99]).T"
   ]
  },
  {
   "cell_type": "code",
   "execution_count": 28,
   "id": "d393460b",
   "metadata": {},
   "outputs": [
    {
     "data": {
      "text/plain": [
       "Gender                            2.046721\n",
       "Age                               6.557324\n",
       "Occupation                       27.644688\n",
       "City_Category                     4.323272\n",
       "Stay_In_Current_City_Years        5.726745\n",
       "Marital_Status                    1.884963\n",
       "Product_Category_1               17.212904\n",
       "Product_Category_2             1701.369513\n",
       "Product_Category_3             2060.058361\n",
       "Purchase                      24333.164894\n",
       "dtype: float64"
      ]
     },
     "execution_count": 28,
     "metadata": {},
     "output_type": "execute_result"
    }
   ],
   "source": [
    "df2.mean() + 3*df2.std()"
   ]
  },
  {
   "cell_type": "markdown",
   "id": "963185ff",
   "metadata": {},
   "source": [
    "No outliers present in the data"
   ]
  },
  {
   "cell_type": "markdown",
   "id": "c992afff",
   "metadata": {},
   "source": [
    "## Correlation matrix"
   ]
  },
  {
   "cell_type": "code",
   "execution_count": 34,
   "id": "63e6b152",
   "metadata": {},
   "outputs": [
    {
     "data": {
      "image/png": "[encoded data removed]",
      "text/plain": [
       "<Figure size 1440x864 with 2 Axes>"
      ]
     },
     "metadata": {
      "needs_background": "light"
     },
     "output_type": "display_data"
    }
   ],
   "source": [
    "corr_matrix = df2.corr() \n",
    "#filter correlation values above 0.5\n",
    "filter_corr = corr_matrix[corr_matrix > 0.5]\n",
    "#plot correlation matrix\n",
    "plt.figure(figsize=(20,12))\n",
    "sns.heatmap(filter_corr,\n",
    "            cmap='coolwarm',\n",
    "            annot=True);"
   ]
  },
  {
   "cell_type": "markdown",
   "id": "a1df769a",
   "metadata": {},
   "source": [
    "No multicollinearity in the data"
   ]
  },
  {
   "cell_type": "code",
   "execution_count": null,
   "id": "28d7eeef",
   "metadata": {},
   "outputs": [],
   "source": []
  },
  {
   "cell_type": "markdown",
   "id": "63ae5db7",
   "metadata": {},
   "source": [
    "## Using VIF for feature selection"
   ]
  },
  {
   "cell_type": "code",
   "execution_count": 36,
   "id": "71b3ae8e",
   "metadata": {},
   "outputs": [
    {
     "data": {
      "text/plain": [
       "Index(['Gender', 'Age', 'Occupation', 'Stay_In_Current_City_Years',\n",
       "       'Marital_Status', 'Product_Category_1', 'Product_Category_2',\n",
       "       'Product_Category_3', 'Purchase', 'City_Category_B', 'City_Category_C'],\n",
       "      dtype='object')"
      ]
     },
     "execution_count": 36,
     "metadata": {},
     "output_type": "execute_result"
    }
   ],
   "source": [
    "df2.columns"
   ]
  },
  {
   "cell_type": "code",
   "execution_count": 38,
   "id": "71b7b16f",
   "metadata": {},
   "outputs": [],
   "source": [
    "vars_from_Corr = ['Gender', 'Age', 'Occupation', 'Stay_In_Current_City_Years',\n",
    "       'Marital_Status', 'Product_Category_1', 'Product_Category_2',\n",
    "       'Product_Category_3', 'City_Category_B', 'City_Category_C']\n",
    "\n",
    "from statsmodels.stats.outliers_influence import variance_inflation_factor\n",
    "\n",
    "X1 = df2[vars_from_Corr]"
   ]
  },
  {
   "cell_type": "code",
   "execution_count": 39,
   "id": "6f229e49",
   "metadata": {},
   "outputs": [
    {
     "data": {
      "text/html": [
       "<div>\n",
       "<style scoped>\n",
       "    .dataframe tbody tr th:only-of-type {\n",
       "        vertical-align: middle;\n",
       "    }\n",
       "\n",
       "    .dataframe tbody tr th {\n",
       "        vertical-align: top;\n",
       "    }\n",
       "\n",
       "    .dataframe thead th {\n",
       "        text-align: right;\n",
       "    }\n",
       "</style>\n",
       "<table border=\"1\" class=\"dataframe\">\n",
       "  <thead>\n",
       "    <tr style=\"text-align: right;\">\n",
       "      <th></th>\n",
       "      <th>vif_value</th>\n",
       "      <th>features</th>\n",
       "    </tr>\n",
       "  </thead>\n",
       "  <tbody>\n",
       "    <tr>\n",
       "      <th>1</th>\n",
       "      <td>4.391494</td>\n",
       "      <td>Age</td>\n",
       "    </tr>\n",
       "    <tr>\n",
       "      <th>7</th>\n",
       "      <td>4.336334</td>\n",
       "      <td>Product_Category_3</td>\n",
       "    </tr>\n",
       "    <tr>\n",
       "      <th>5</th>\n",
       "      <td>3.841513</td>\n",
       "      <td>Product_Category_1</td>\n",
       "    </tr>\n",
       "    <tr>\n",
       "      <th>0</th>\n",
       "      <td>3.340717</td>\n",
       "      <td>Gender</td>\n",
       "    </tr>\n",
       "    <tr>\n",
       "      <th>3</th>\n",
       "      <td>2.714144</td>\n",
       "      <td>Stay_In_Current_City_Years</td>\n",
       "    </tr>\n",
       "    <tr>\n",
       "      <th>2</th>\n",
       "      <td>2.479828</td>\n",
       "      <td>Occupation</td>\n",
       "    </tr>\n",
       "    <tr>\n",
       "      <th>8</th>\n",
       "      <td>2.247133</td>\n",
       "      <td>City_Category_B</td>\n",
       "    </tr>\n",
       "    <tr>\n",
       "      <th>6</th>\n",
       "      <td>2.033106</td>\n",
       "      <td>Product_Category_2</td>\n",
       "    </tr>\n",
       "    <tr>\n",
       "      <th>9</th>\n",
       "      <td>1.990414</td>\n",
       "      <td>City_Category_C</td>\n",
       "    </tr>\n",
       "    <tr>\n",
       "      <th>4</th>\n",
       "      <td>1.864994</td>\n",
       "      <td>Marital_Status</td>\n",
       "    </tr>\n",
       "  </tbody>\n",
       "</table>\n",
       "</div>"
      ],
      "text/plain": [
       "   vif_value                    features\n",
       "1   4.391494                         Age\n",
       "7   4.336334          Product_Category_3\n",
       "5   3.841513          Product_Category_1\n",
       "0   3.340717                      Gender\n",
       "3   2.714144  Stay_In_Current_City_Years\n",
       "2   2.479828                  Occupation\n",
       "8   2.247133             City_Category_B\n",
       "6   2.033106          Product_Category_2\n",
       "9   1.990414             City_Category_C\n",
       "4   1.864994              Marital_Status"
      ]
     },
     "execution_count": 39,
     "metadata": {},
     "output_type": "execute_result"
    }
   ],
   "source": [
    "# For each column, calculate VIF and save in dataframe\n",
    "vif = pd.DataFrame()\n",
    "vif['vif_value'] = [variance_inflation_factor(X1.values, i) for i in range(X1.shape[1])]\n",
    "vif[\"features\"] = X1.columns\n",
    "vif.sort_values('vif_value', ascending=False)"
   ]
  },
  {
   "cell_type": "markdown",
   "id": "a17eff0f",
   "metadata": {},
   "source": [
    "No Variables with VIF"
   ]
  },
  {
   "cell_type": "code",
   "execution_count": null,
   "id": "50c8fa0e",
   "metadata": {},
   "outputs": [],
   "source": []
  },
  {
   "cell_type": "markdown",
   "id": "ae706b9c",
   "metadata": {},
   "source": [
    "## Splitting the train and test data"
   ]
  },
  {
   "cell_type": "code",
   "execution_count": 40,
   "id": "25520cdb",
   "metadata": {},
   "outputs": [
    {
     "data": {
      "text/plain": [
       "(233599, 11)"
      ]
     },
     "execution_count": 40,
     "metadata": {},
     "output_type": "execute_result"
    }
   ],
   "source": [
    "df_test=df2[df2['Purchase'].isnull()]\n",
    "df_test.shape"
   ]
  },
  {
   "cell_type": "code",
   "execution_count": 42,
   "id": "d42e2f35",
   "metadata": {},
   "outputs": [
    {
     "data": {
      "text/plain": [
       "(550068, 11)"
      ]
     },
     "execution_count": 42,
     "metadata": {},
     "output_type": "execute_result"
    }
   ],
   "source": [
    "df_train=df2[~df2['Purchase'].isnull()]\n",
    "df_train.shape"
   ]
  },
  {
   "cell_type": "code",
   "execution_count": 43,
   "id": "71326844",
   "metadata": {},
   "outputs": [],
   "source": [
    "#Splitting the DATA\n",
    "y=df_train[\"Purchase\"]\n",
    "X=df_train.drop(columns=[\"Purchase\"])"
   ]
  },
  {
   "cell_type": "code",
   "execution_count": 44,
   "id": "e9a91eb6",
   "metadata": {},
   "outputs": [],
   "source": [
    "from sklearn.model_selection import train_test_split"
   ]
  },
  {
   "cell_type": "code",
   "execution_count": 101,
   "id": "cf5661a3",
   "metadata": {},
   "outputs": [],
   "source": [
    "X_train , X_test, y_train , y_test=train_test_split(X,y, test_size=0.3, random_state=70)"
   ]
  },
  {
   "cell_type": "code",
   "execution_count": 47,
   "id": "dccdda28",
   "metadata": {},
   "outputs": [
    {
     "name": "stderr",
     "output_type": "stream",
     "text": [
      "C:\\python\\lib\\site-packages\\seaborn\\distributions.py:2557: FutureWarning: `distplot` is a deprecated function and will be removed in a future version. Please adapt your code to use either `displot` (a figure-level function with similar flexibility) or `histplot` (an axes-level function for histograms).\n",
      "  warnings.warn(msg, FutureWarning)\n",
      "C:\\python\\lib\\site-packages\\seaborn\\distributions.py:2557: FutureWarning: `distplot` is a deprecated function and will be removed in a future version. Please adapt your code to use either `displot` (a figure-level function with similar flexibility) or `histplot` (an axes-level function for histograms).\n",
      "  warnings.warn(msg, FutureWarning)\n",
      "C:\\python\\lib\\site-packages\\seaborn\\distributions.py:2557: FutureWarning: `distplot` is a deprecated function and will be removed in a future version. Please adapt your code to use either `displot` (a figure-level function with similar flexibility) or `histplot` (an axes-level function for histograms).\n",
      "  warnings.warn(msg, FutureWarning)\n"
     ]
    },
    {
     "data": {
      "image/png": "[encoded data removed]",
      "text/plain": [
       "<Figure size 432x288 with 3 Axes>"
      ]
     },
     "metadata": {
      "needs_background": "light"
     },
     "output_type": "display_data"
    }
   ],
   "source": [
    "## checking the distribution of Purchase\n",
    "plt.subplot(131)\n",
    "sns.distplot(y)\n",
    "\n",
    "plt.subplot(132)\n",
    "sns.distplot(np.log(y))\n",
    "\n",
    "plt.subplot(133)\n",
    "sns.distplot(np.sqrt(y))\n",
    "\n",
    "plt.show()"
   ]
  },
  {
   "cell_type": "markdown",
   "id": "c0e92fb2",
   "metadata": {},
   "source": [
    "Normal distribution is not followed in the data so we cannot use linear regression as the error will be very big."
   ]
  },
  {
   "cell_type": "markdown",
   "id": "97b2b867",
   "metadata": {},
   "source": [
    "#### ALGORITHM - LINEAR REGRESSION"
   ]
  },
  {
   "cell_type": "code",
   "execution_count": 102,
   "id": "0cfb304a",
   "metadata": {},
   "outputs": [],
   "source": [
    "from sklearn.linear_model import LinearRegression"
   ]
  },
  {
   "cell_type": "code",
   "execution_count": 103,
   "id": "47cefeb1",
   "metadata": {},
   "outputs": [],
   "source": [
    "LR = LinearRegression()"
   ]
  },
  {
   "cell_type": "code",
   "execution_count": 104,
   "id": "632cc8da",
   "metadata": {},
   "outputs": [
    {
     "data": {
      "text/plain": [
       "LinearRegression()"
      ]
     },
     "execution_count": 104,
     "metadata": {},
     "output_type": "execute_result"
    }
   ],
   "source": [
    "LR.fit(X_train, y_train)"
   ]
  },
  {
   "cell_type": "code",
   "execution_count": 105,
   "id": "ac8427ea",
   "metadata": {},
   "outputs": [
    {
     "name": "stdout",
     "output_type": "stream",
     "text": [
      " LR Train Score : 0.1575664132258121\n",
      "LR Test Score : 0.15815823022944475\n"
     ]
    }
   ],
   "source": [
    "print(\" LR Train Score :\", LR.score(X_train, y_train))\n",
    "print(\"LR Test Score :\", LR.score(X_test, y_test))"
   ]
  },
  {
   "cell_type": "code",
   "execution_count": 106,
   "id": "28868ffb",
   "metadata": {},
   "outputs": [
    {
     "data": {
      "text/plain": [
       "array([10986.4124294 ,  8313.16829348,  9811.60856949, ...,\n",
       "        5197.91532636,  7768.41359396,  7310.72417685])"
      ]
     },
     "execution_count": 106,
     "metadata": {},
     "output_type": "execute_result"
    }
   ],
   "source": [
    "y_pred_train_lr=LR.predict(X_train)\n",
    "y_pred_train_lr"
   ]
  },
  {
   "cell_type": "code",
   "execution_count": 107,
   "id": "10ef5129",
   "metadata": {},
   "outputs": [
    {
     "data": {
      "text/plain": [
       "array([ 8468.92574067, 12453.09651534,  9511.71411402, ...,\n",
       "        8686.653854  ,  5918.47199197, 12456.68084386])"
      ]
     },
     "execution_count": 107,
     "metadata": {},
     "output_type": "execute_result"
    }
   ],
   "source": [
    "y_pred_test_lr=LR.predict(X_test)\n",
    "y_pred_test_lr"
   ]
  },
  {
   "cell_type": "code",
   "execution_count": 108,
   "id": "6dce4217",
   "metadata": {},
   "outputs": [
    {
     "name": "stdout",
     "output_type": "stream",
     "text": [
      "Train MSE : 21262436.489705052\n",
      "Test MSE : 21224583.58657921\n"
     ]
    }
   ],
   "source": [
    "print(\"Train MSE :\", np.mean((y_train-y_pred_train_lr)**2))\n",
    "print(\"Test MSE :\", np.mean((y_test-y_pred_test_lr)**2))"
   ]
  },
  {
   "cell_type": "code",
   "execution_count": 109,
   "id": "82927d16",
   "metadata": {},
   "outputs": [
    {
     "name": "stdout",
     "output_type": "stream",
     "text": [
      "Train RMSE : 4611.12095804318\n",
      "Test RMSE : 4607.014606725185\n"
     ]
    }
   ],
   "source": [
    "print(\"Train RMSE :\", np.sqrt(np.mean((y_train-y_pred_train_lr)**2)))\n",
    "print(\"Test RMSE :\", np.sqrt(np.mean((y_test-y_pred_test_lr)**2)))"
   ]
  },
  {
   "cell_type": "markdown",
   "id": "d60a1962",
   "metadata": {},
   "source": [
    "#### ALGORITHM - DECISION TREE [REGRESSOR]"
   ]
  },
  {
   "cell_type": "code",
   "execution_count": 110,
   "id": "c941dc8d",
   "metadata": {},
   "outputs": [],
   "source": [
    "from sklearn.tree import DecisionTreeRegressor"
   ]
  },
  {
   "cell_type": "code",
   "execution_count": 111,
   "id": "d8abfcfa",
   "metadata": {},
   "outputs": [
    {
     "name": "stdout",
     "output_type": "stream",
     "text": [
      "Train Accuracy: 0.8083750401945649\n",
      "Test Accuracy: 0.5543088859542125\n"
     ]
    }
   ],
   "source": [
    "DtR=DecisionTreeRegressor()\n",
    "\n",
    "DtR.fit(X_train, y_train)\n",
    "\n",
    "print(\"Train Accuracy:\", DtR.score(X_train,y_train))\n",
    "print(\"Test Accuracy:\", DtR.score(X_test,y_test))"
   ]
  },
  {
   "cell_type": "code",
   "execution_count": 113,
   "id": "fa853239",
   "metadata": {},
   "outputs": [
    {
     "name": "stdout",
     "output_type": "stream",
     "text": [
      "Train Accuracy: 0.6625573972054892\n",
      "Test Accuracy: 0.6543815864590928\n"
     ]
    }
   ],
   "source": [
    "DtR=DecisionTreeRegressor(max_depth=10,random_state=70)\n",
    "\n",
    "DtR.fit(X_train, y_train)\n",
    "\n",
    "print(\"Train Accuracy:\", DtR.score(X_train,y_train))\n",
    "print(\"Test Accuracy:\", DtR.score(X_test,y_test))"
   ]
  },
  {
   "cell_type": "code",
   "execution_count": 114,
   "id": "81aff4ca",
   "metadata": {},
   "outputs": [
    {
     "name": "stdout",
     "output_type": "stream",
     "text": [
      "Train Accuracy: 0.6625573972054892\n",
      "Test Accuracy: 0.6543815864590928\n"
     ]
    }
   ],
   "source": [
    "DtR1=DecisionTreeRegressor(max_depth=10,random_state=70, criterion='squared_error')\n",
    "\n",
    "DtR1.fit(X_train, y_train)\n",
    "\n",
    "print(\"Train Accuracy:\", DtR1.score(X_train,y_train))\n",
    "print(\"Test Accuracy:\", DtR1.score(X_test,y_test))"
   ]
  },
  {
   "cell_type": "code",
   "execution_count": 116,
   "id": "fd904737",
   "metadata": {},
   "outputs": [
    {
     "name": "stdout",
     "output_type": "stream",
     "text": [
      "Train Accuracy: 0.6625573972054892\n",
      "Test Accuracy: 0.6543815864590928\n"
     ]
    }
   ],
   "source": [
    "DtR2=DecisionTreeRegressor(max_depth=10,random_state=70,min_samples_split=2, min_samples_leaf=1)\n",
    "\n",
    "DtR2.fit(X_train, y_train)\n",
    "\n",
    "print(\"Train Accuracy:\", DtR2.score(X_train,y_train))\n",
    "print(\"Test Accuracy:\", DtR2.score(X_test,y_test))"
   ]
  },
  {
   "cell_type": "code",
   "execution_count": 118,
   "id": "77beffc7",
   "metadata": {},
   "outputs": [
    {
     "name": "stdout",
     "output_type": "stream",
     "text": [
      "Train Accuracy: 0.6608940125378959\n",
      "Test Accuracy: 0.6556376314748318\n"
     ]
    }
   ],
   "source": [
    "DtR2=DecisionTreeRegressor(max_depth=10,random_state=70, min_samples_leaf=20 ,min_samples_split=150)\n",
    "\n",
    "DtR2.fit(X_train, y_train)\n",
    "\n",
    "print(\"Train Accuracy:\", DtR2.score(X_train,y_train))\n",
    "print(\"Test Accuracy:\", DtR2.score(X_test,y_test))    "
   ]
  },
  {
   "cell_type": "markdown",
   "id": "1894dafa",
   "metadata": {},
   "source": [
    "#### hyperparameter tuning"
   ]
  },
  {
   "cell_type": "code",
   "execution_count": null,
   "id": "b461d26f",
   "metadata": {},
   "outputs": [
    {
     "name": "stdout",
     "output_type": "stream",
     "text": [
      "Fitting 5 folds for each of 10 candidates, totalling 50 fits\n"
     ]
    }
   ],
   "source": [
    "from sklearn.model_selection import RandomizedSearchCV\n",
    "\n",
    "param_grid_1 = {'max_depth': [5,10,20],\n",
    "                'min_samples_split': [50,100,150], \n",
    "                \"min_samples_leaf\" : [5,10,15,20],\n",
    "                'criterion': ['mse', 'mae']\n",
    "     \n",
    "               }\n",
    "\n",
    "dtr = DecisionTreeRegressor(random_state=70)\n",
    "\n",
    "dtr_grid = RandomizedSearchCV(dtr, param_grid_1, cv=5, verbose=1, n_jobs=4)\n",
    "\n",
    "dtr_grid.fit(X_train, y_train)"
   ]
  },
  {
   "cell_type": "code",
   "execution_count": null,
   "id": "c66a817e",
   "metadata": {},
   "outputs": [],
   "source": [
    "dtr_grid.best_params_"
   ]
  },
  {
   "cell_type": "code",
   "execution_count": null,
   "id": "6cc31070",
   "metadata": {},
   "outputs": [],
   "source": [
    "dtr_grid.best_score_"
   ]
  },
  {
   "cell_type": "code",
   "execution_count": null,
   "id": "9655d10b",
   "metadata": {},
   "outputs": [],
   "source": [
    "DtR3=DecisionTreeRegressor(max_depth=dtr_grid.best_params_['max_depth'], \n",
    "                           criterion=dtr_grid.best_params_['criterion'], \n",
    "                           min_samples_split=dtr_grid.best_params_['min_samples_split'], \n",
    "                           min_samples_leaf=dtr_grid.best_params_['min_samples_leaf'])\n",
    "\n",
    "DtR3.fit(X_train, y_train)\n",
    "\n",
    "print(\"Train Accuracy:\", DtR3.score(X_train,y_train))\n",
    "print(\"Test Accuracy:\", DtR3.score(X_test,y_test))"
   ]
  },
  {
   "cell_type": "code",
   "execution_count": 119,
   "id": "439479a7",
   "metadata": {},
   "outputs": [
    {
     "data": {
      "text/plain": [
       "array([ 9854.26656026,  6024.63662512,  6638.97358283, ...,\n",
       "       14651.49504146,  7739.45964264,  7391.07378911])"
      ]
     },
     "execution_count": 119,
     "metadata": {},
     "output_type": "execute_result"
    }
   ],
   "source": [
    "y_pred_train_dt=DtR2.predict(X_train)\n",
    "y_pred_train_dt"
   ]
  },
  {
   "cell_type": "code",
   "execution_count": 120,
   "id": "e3d5bcd6",
   "metadata": {},
   "outputs": [
    {
     "data": {
      "text/plain": [
       "array([ 6799.14304462, 14453.56906615, 13871.74336283, ...,\n",
       "        5818.56713857,  4671.48773885, 13728.07587822])"
      ]
     },
     "execution_count": 120,
     "metadata": {},
     "output_type": "execute_result"
    }
   ],
   "source": [
    "y_pred_test_dt=DtR2.predict(X_test)\n",
    "y_pred_test_dt"
   ]
  },
  {
   "cell_type": "code",
   "execution_count": 121,
   "id": "28d91490",
   "metadata": {},
   "outputs": [
    {
     "name": "stdout",
     "output_type": "stream",
     "text": [
      "Train RMSE 2925.5424694919993\n",
      "Test RMSE 2946.539023007649\n"
     ]
    }
   ],
   "source": [
    "print(\"Train RMSE\", np.sqrt(np.mean((y_train-y_pred_train_dt)**2)))\n",
    "print(\"Test RMSE\", np.sqrt(np.mean((y_test-y_pred_test_dt)**2)))"
   ]
  },
  {
   "cell_type": "code",
   "execution_count": null,
   "id": "b81ba74c",
   "metadata": {},
   "outputs": [],
   "source": []
  },
  {
   "cell_type": "markdown",
   "id": "dd827410",
   "metadata": {},
   "source": [
    "### ALGORITHM - RANDOM FOREST"
   ]
  },
  {
   "cell_type": "code",
   "execution_count": 122,
   "id": "fca46ec3",
   "metadata": {},
   "outputs": [],
   "source": [
    "from sklearn.ensemble import RandomForestRegressor"
   ]
  },
  {
   "cell_type": "code",
   "execution_count": 124,
   "id": "f17a0394",
   "metadata": {},
   "outputs": [
    {
     "name": "stdout",
     "output_type": "stream",
     "text": [
      "Train Accuracy: 0.5797872977755361\n",
      "Test Accuracy: 0.5788147048534555\n"
     ]
    }
   ],
   "source": [
    "Rf=RandomForestRegressor(max_depth=5, random_state=70)\n",
    "\n",
    "Rf.fit(X_train, y_train)\n",
    "\n",
    "print(\"Train Accuracy:\", Rf.score(X_train, y_train))\n",
    "print(\"Test Accuracy:\", Rf.score(X_test,y_test))"
   ]
  },
  {
   "cell_type": "code",
   "execution_count": 125,
   "id": "8a8cc30e",
   "metadata": {},
   "outputs": [
    {
     "name": "stdout",
     "output_type": "stream",
     "text": [
      "Train Accuracy: 0.6661165218054086\n",
      "Test Accuracy: 0.6583396803648056\n"
     ]
    }
   ],
   "source": [
    "Rf1=RandomForestRegressor(max_depth=10, random_state=70, min_samples_split=2, min_samples_leaf=1)\n",
    "Rf1.fit(X_train, y_train)\n",
    "\n",
    "print(\"Train Accuracy:\", Rf1.score(X_train, y_train))\n",
    "print(\"Test Accuracy:\", Rf1.score(X_test,y_test))"
   ]
  },
  {
   "cell_type": "code",
   "execution_count": 70,
   "id": "75bf158c",
   "metadata": {},
   "outputs": [
    {
     "name": "stdout",
     "output_type": "stream",
     "text": [
      "Train Accuracy : 0.6636608707887957\n",
      "Test Accuracy : 0.6583412874465873\n"
     ]
    }
   ],
   "source": [
    "rf2=RandomForestRegressor(max_depth=10, random_state=70, min_samples_split=100, min_samples_leaf=10)\n",
    "rf2.fit(X_train, y_train)\n",
    "print(\"Train Accuracy :\", rf2.score(X_train,y_train))\n",
    "print(\"Test Accuracy :\", rf2.score(X_test,y_test))"
   ]
  },
  {
   "cell_type": "code",
   "execution_count": 126,
   "id": "87d1efdc",
   "metadata": {},
   "outputs": [
    {
     "name": "stdout",
     "output_type": "stream",
     "text": [
      "Train Accuracy : 0.6784421815780521\n",
      "Test Accuracy : 0.6640343155653883\n"
     ]
    }
   ],
   "source": [
    "rf2=RandomForestRegressor(max_depth=15, random_state=70, min_samples_split=100, min_samples_leaf=10)\n",
    "rf2.fit(X_train, y_train)\n",
    "print(\"Train Accuracy :\", rf2.score(X_train,y_train))\n",
    "print(\"Test Accuracy :\", rf2.score(X_test,y_test))"
   ]
  },
  {
   "cell_type": "markdown",
   "id": "3693275c",
   "metadata": {},
   "source": [
    "#### hyperparameter tuning"
   ]
  },
  {
   "cell_type": "code",
   "execution_count": 178,
   "id": "5f80f8c2",
   "metadata": {},
   "outputs": [
    {
     "name": "stdout",
     "output_type": "stream",
     "text": [
      "Fitting 5 folds for each of 10 candidates, totalling 50 fits\n"
     ]
    },
    {
     "data": {
      "text/plain": [
       "RandomizedSearchCV(cv=5, estimator=RandomForestRegressor(random_state=70),\n",
       "                   n_jobs=4,\n",
       "                   param_distributions={'max_depth': [7, 10, 15],\n",
       "                                        'min_samples_leaf': [2, 5, 10],\n",
       "                                        'min_samples_split': [50, 100, 150,\n",
       "                                                              200],\n",
       "                                        'n_estimators': [25, 50, 100]},\n",
       "                   verbose=1)"
      ]
     },
     "execution_count": 178,
     "metadata": {},
     "output_type": "execute_result"
    }
   ],
   "source": [
    "from sklearn.model_selection import RandomizedSearchCV\n",
    "\n",
    "param_grid_1 = {'max_depth': [7,10,15],\n",
    "                'n_estimators':[25, 50, 100],\n",
    "                'min_samples_split': [50,100,150,200],\n",
    "                \"min_samples_leaf\" : [2,5,10]\n",
    "     \n",
    "               }\n",
    "\n",
    "clf = RandomForestRegressor(random_state=70)\n",
    "\n",
    "rf_grid = RandomizedSearchCV(clf, param_grid_1, cv=5, verbose=1, n_jobs=4)\n",
    "\n",
    "rf_grid.fit(X_train, y_train)"
   ]
  },
  {
   "cell_type": "code",
   "execution_count": 193,
   "id": "7a5c9d5f",
   "metadata": {},
   "outputs": [
    {
     "data": {
      "text/plain": [
       "{'n_estimators': 100,\n",
       " 'min_samples_split': 100,\n",
       " 'min_samples_leaf': 5,\n",
       " 'max_depth': 15}"
      ]
     },
     "execution_count": 193,
     "metadata": {},
     "output_type": "execute_result"
    }
   ],
   "source": [
    "rf_grid.best_params_"
   ]
  },
  {
   "cell_type": "code",
   "execution_count": 194,
   "id": "95550954",
   "metadata": {},
   "outputs": [
    {
     "data": {
      "text/plain": [
       "0.6647299967357743"
      ]
     },
     "execution_count": 194,
     "metadata": {},
     "output_type": "execute_result"
    }
   ],
   "source": [
    "rf_grid.best_score_"
   ]
  },
  {
   "cell_type": "code",
   "execution_count": 197,
   "id": "767bcc9f",
   "metadata": {},
   "outputs": [
    {
     "name": "stdout",
     "output_type": "stream",
     "text": [
      "Train Accuracy : 0.6787300796993418\n",
      "Test Accuracy : 0.663873060161692\n"
     ]
    }
   ],
   "source": [
    "rf3=RandomForestRegressor(n_estimators=rf_grid.best_params_['n_estimators'],\n",
    "                           max_depth=rf_grid.best_params_['max_depth'], \n",
    "                           min_samples_split=rf_grid.best_params_[\"min_samples_split\"],\n",
    "                           min_samples_leaf=rf_grid.best_params_[\"min_samples_leaf\"]\n",
    "                            \n",
    "                          )\n",
    "rf3.fit(X_train, y_train) \n",
    "print(\"Train Accuracy :\", rf3.score(X_train,y_train))\n",
    "print(\"Test Accuracy :\", rf3.score(X_test,y_test))"
   ]
  },
  {
   "cell_type": "code",
   "execution_count": 209,
   "id": "69f06f30",
   "metadata": {},
   "outputs": [
    {
     "data": {
      "text/plain": [
       "array([ 9825.17812301,  5879.17142221,  6490.10538724, ...,\n",
       "       14219.28887313,  7564.6508484 ,  7425.60769953])"
      ]
     },
     "execution_count": 209,
     "metadata": {},
     "output_type": "execute_result"
    }
   ],
   "source": [
    "y_pred_train_rf=rf2.predict(X_train)\n",
    "y_pred_train_rf"
   ]
  },
  {
   "cell_type": "code",
   "execution_count": 210,
   "id": "c6453198",
   "metadata": {},
   "outputs": [
    {
     "data": {
      "text/plain": [
       "array([ 7310.70574485, 14418.21711313, 14057.97243238, ...,\n",
       "        5843.28240272,  4867.39543908, 13875.24747922])"
      ]
     },
     "execution_count": 210,
     "metadata": {},
     "output_type": "execute_result"
    }
   ],
   "source": [
    "y_pred_test_rf=rf2.predict(X_test)\n",
    "y_pred_test_rf"
   ]
  },
  {
   "cell_type": "code",
   "execution_count": 211,
   "id": "34b3b226",
   "metadata": {},
   "outputs": [
    {
     "name": "stdout",
     "output_type": "stream",
     "text": [
      "Train RMSE : 2848.8410251609635\n",
      "Test RMSE : 2910.394187687131\n"
     ]
    }
   ],
   "source": [
    "print(\"Train RMSE :\", np.sqrt(np.mean((y_train-y_pred_train_rf)**2)))\n",
    "print(\"Test RMSE :\", np.sqrt(np.mean((y_test-y_pred_test_rf)**2)))"
   ]
  },
  {
   "cell_type": "code",
   "execution_count": null,
   "id": "8fbea0a3",
   "metadata": {},
   "outputs": [],
   "source": []
  },
  {
   "cell_type": "markdown",
   "id": "50f02069",
   "metadata": {},
   "source": [
    "### ALGORITHM - XG BOOST"
   ]
  },
  {
   "cell_type": "code",
   "execution_count": 130,
   "id": "84228eb3",
   "metadata": {},
   "outputs": [],
   "source": [
    "from xgboost import XGBRFRegressor"
   ]
  },
  {
   "cell_type": "code",
   "execution_count": 131,
   "id": "fb427e89",
   "metadata": {},
   "outputs": [
    {
     "data": {
      "text/plain": [
       "XGBRFRegressor(base_score=0.5, booster='gbtree', colsample_bylevel=1,\n",
       "               colsample_bytree=1, enable_categorical=False, gamma=0, gpu_id=-1,\n",
       "               importance_type=None, interaction_constraints='',\n",
       "               max_delta_step=0, max_depth=7, min_child_weight=45, missing=nan,\n",
       "               monotone_constraints='()', n_estimators=100, n_jobs=8,\n",
       "               num_parallel_tree=100, objective='reg:squarederror',\n",
       "               predictor='auto', random_state=54, reg_alpha=0,\n",
       "               scale_pos_weight=1, seed=54, tree_method='exact',\n",
       "               validate_parameters=1, verbosity=None)"
      ]
     },
     "execution_count": 131,
     "metadata": {},
     "output_type": "execute_result"
    }
   ],
   "source": [
    "Xgbr = XGBRFRegressor(learning_rate=1.0, max_depth=7, min_child_weight=45, seed=54)\n",
    "\n",
    "Xgbr.fit(X_train, y_train)"
   ]
  },
  {
   "cell_type": "code",
   "execution_count": 132,
   "id": "7030ad9e",
   "metadata": {},
   "outputs": [
    {
     "name": "stdout",
     "output_type": "stream",
     "text": [
      "Train Accuracy: 0.6427033692450534\n",
      "Test Accuracy: 0.6403466103700406\n"
     ]
    }
   ],
   "source": [
    "print(\"Train Accuracy:\", Xgbr.score(X_train, y_train))\n",
    "print(\"Test Accuracy:\", Xgbr.score(X_test,y_test))"
   ]
  },
  {
   "cell_type": "code",
   "execution_count": 133,
   "id": "809ad055",
   "metadata": {},
   "outputs": [
    {
     "name": "stdout",
     "output_type": "stream",
     "text": [
      "Train Accuracy: 0.5385222942818747\n",
      "Test Accuracy: 0.5379378594787303\n"
     ]
    }
   ],
   "source": [
    "Xgbr1 = XGBRFRegressor(learning_rate=1.0, max_depth=5, min_child_weight=30, seed=54)\n",
    "\n",
    "Xgbr1.fit(X_train, y_train)\n",
    "\n",
    "print(\"Train Accuracy:\", Xgbr1.score(X_train, y_train))\n",
    "print(\"Test Accuracy:\", Xgbr1.score(X_test,y_test))"
   ]
  },
  {
   "cell_type": "code",
   "execution_count": 134,
   "id": "879d367d",
   "metadata": {},
   "outputs": [
    {
     "name": "stdout",
     "output_type": "stream",
     "text": [
      "Train Accuracy: 0.6634649214127704\n",
      "Test Accuracy: 0.6581028829811029\n"
     ]
    }
   ],
   "source": [
    "Xgbr2 = XGBRFRegressor(learning_rate=1.0, max_depth=10, min_child_weight=40, seed=0, random_state=70)\n",
    "\n",
    "Xgbr2.fit(X_train, y_train)\n",
    "\n",
    "print(\"Train Accuracy:\", Xgbr2.score(X_train, y_train))\n",
    "print(\"Test Accuracy:\", Xgbr2.score(X_test,y_test))"
   ]
  },
  {
   "cell_type": "code",
   "execution_count": 143,
   "id": "31bd7088",
   "metadata": {},
   "outputs": [
    {
     "name": "stdout",
     "output_type": "stream",
     "text": [
      "Train Accuracy: 0.6769117013704423\n",
      "Test Accuracy: 0.663167924860916\n"
     ]
    }
   ],
   "source": [
    "Xgbr2 = XGBRFRegressor(learning_rate=1.0, max_depth=15, min_child_weight=40, seed=10, random_state=70)\n",
    "\n",
    "Xgbr2.fit(X_train, y_train)\n",
    "\n",
    "print(\"Train Accuracy:\", Xgbr2.score(X_train, y_train))\n",
    "print(\"Test Accuracy:\", Xgbr2.score(X_test,y_test))"
   ]
  },
  {
   "cell_type": "markdown",
   "id": "95416597",
   "metadata": {},
   "source": [
    "#### hyperparameter tuning"
   ]
  },
  {
   "cell_type": "code",
   "execution_count": 149,
   "id": "791e6a6d",
   "metadata": {},
   "outputs": [
    {
     "name": "stdout",
     "output_type": "stream",
     "text": [
      "Fitting 5 folds for each of 10 candidates, totalling 50 fits\n"
     ]
    },
    {
     "data": {
      "text/plain": [
       "RandomizedSearchCV(cv=5,\n",
       "                   estimator=XGBRFRegressor(base_score=None, booster=None,\n",
       "                                            colsample_bylevel=None,\n",
       "                                            colsample_bytree=None,\n",
       "                                            enable_categorical=False,\n",
       "                                            gamma=None, gpu_id=None,\n",
       "                                            importance_type=None,\n",
       "                                            interaction_constraints=None,\n",
       "                                            max_delta_step=None, max_depth=None,\n",
       "                                            min_child_weight=None, missing=nan,\n",
       "                                            monotone_constraints=None,\n",
       "                                            n_estimators=100, n_jobs=None,\n",
       "                                            num_parallel_tree=None,\n",
       "                                            objective='reg:squarederror',\n",
       "                                            predictor=None, random_state=89,\n",
       "                                            reg_alpha=None,\n",
       "                                            scale_pos_weight=None,\n",
       "                                            tree_method=None,\n",
       "                                            validate_parameters=None,\n",
       "                                            verbosity=None),\n",
       "                   n_jobs=-1,\n",
       "                   param_distributions={'learning_rate': [0.5, 1.0, 1.5],\n",
       "                                        'max_depth': [2, 5, 6, 10],\n",
       "                                        'min_child_weight': [20, 40, 50, 100],\n",
       "                                        'seed': [0, 2, 4]},\n",
       "                   verbose=1)"
      ]
     },
     "execution_count": 149,
     "metadata": {},
     "output_type": "execute_result"
    }
   ],
   "source": [
    "from sklearn.model_selection import RandomizedSearchCV\n",
    "\n",
    "params =  {'max_depth': [2,5,6,10],\n",
    "            'learning_rate':[0.5,1.0,1.5],\n",
    "            'seed': [0,2,4],\n",
    "            'min_child_weight': [20,40,50,100]\n",
    "     \n",
    "              }\n",
    "\n",
    "xgb_reg = XGBRFRegressor(random_state=89)\n",
    "\n",
    "xgb_reg_grid = RandomizedSearchCV(xgb_reg, params, cv=5, verbose=1, n_jobs=-1)\n",
    "\n",
    "xgb_reg_grid.fit(X_train, y_train)                "
   ]
  },
  {
   "cell_type": "code",
   "execution_count": 150,
   "id": "6375d046",
   "metadata": {},
   "outputs": [
    {
     "data": {
      "text/plain": [
       "{'seed': 2, 'min_child_weight': 40, 'max_depth': 10, 'learning_rate': 1.0}"
      ]
     },
     "execution_count": 150,
     "metadata": {},
     "output_type": "execute_result"
    }
   ],
   "source": [
    "xgb_reg_grid.best_params_"
   ]
  },
  {
   "cell_type": "code",
   "execution_count": 151,
   "id": "3e8c008e",
   "metadata": {},
   "outputs": [
    {
     "data": {
      "text/plain": [
       "0.6594769446300563"
      ]
     },
     "execution_count": 151,
     "metadata": {},
     "output_type": "execute_result"
    }
   ],
   "source": [
    "xgb_reg_grid.best_score_"
   ]
  },
  {
   "cell_type": "code",
   "execution_count": 156,
   "id": "abb98e26",
   "metadata": {},
   "outputs": [
    {
     "name": "stdout",
     "output_type": "stream",
     "text": [
      "Train Accuaracy: 0.6630613374741652\n",
      "Test Accuaracy: 0.6577691530792089\n"
     ]
    }
   ],
   "source": [
    "Xgbr3 = XGBRFRegressor(learning_rate=xgb_reg_grid.best_params_['learning_rate'],\n",
    "                     max_depth=xgb_reg_grid.best_params_['max_depth'], \n",
    "                     seed=xgb_reg_grid.best_params_['seed'],\n",
    "                     min_child_weight=xgb_reg_grid.best_params_['min_child_weight'])\n",
    "\n",
    "Xgbr3.fit(X_train, y_train)\n",
    "\n",
    "print(\"Train Accuaracy:\", Xgbr3.score(X_train, y_train))\n",
    "print(\"Test Accuaracy:\", Xgbr3.score(X_test,y_test))"
   ]
  },
  {
   "cell_type": "code",
   "execution_count": 160,
   "id": "abf90cd6",
   "metadata": {},
   "outputs": [
    {
     "data": {
      "text/plain": [
       "array([ 9994.154 ,  5910.15  ,  6486.782 , ..., 14196.516 ,  7589.9814,\n",
       "        7415.4   ], dtype=float32)"
      ]
     },
     "execution_count": 160,
     "metadata": {},
     "output_type": "execute_result"
    }
   ],
   "source": [
    "Xgbr_y_Pred_train = Xgbr2.predict(X_train)\n",
    "Xgbr_y_Pred_train"
   ]
  },
  {
   "cell_type": "code",
   "execution_count": 161,
   "id": "e44dda08",
   "metadata": {},
   "outputs": [
    {
     "data": {
      "text/plain": [
       "array([ 7286.9604, 14550.402 , 13883.193 , ...,  5791.395 ,  4806.054 ,\n",
       "       13870.368 ], dtype=float32)"
      ]
     },
     "execution_count": 161,
     "metadata": {},
     "output_type": "execute_result"
    }
   ],
   "source": [
    "Xgbr_y_Pred_test = Xgbr2.predict(X_test)\n",
    "Xgbr_y_Pred_test"
   ]
  },
  {
   "cell_type": "code",
   "execution_count": 162,
   "id": "dcf91025",
   "metadata": {},
   "outputs": [
    {
     "name": "stdout",
     "output_type": "stream",
     "text": [
      "Train RMSE 2855.612620826282\n",
      "Test RMSE 2914.144444097079\n"
     ]
    }
   ],
   "source": [
    "print(\"Train RMSE\", np.sqrt(np.mean((y_train-Xgbr_y_Pred_train)**2)))\n",
    "print(\"Test RMSE\", np.sqrt(np.mean((y_test-Xgbr_y_Pred_test)**2)))"
   ]
  },
  {
   "cell_type": "code",
   "execution_count": null,
   "id": "f8f1c294",
   "metadata": {},
   "outputs": [],
   "source": []
  },
  {
   "cell_type": "markdown",
   "id": "1b676bc7",
   "metadata": {},
   "source": [
    "## Comparison of Models"
   ]
  },
  {
   "cell_type": "code",
   "execution_count": 179,
   "id": "ff63fa19",
   "metadata": {},
   "outputs": [],
   "source": [
    "Col_Name=[\"Model Name\",\"Accuracy\",\"RMSE\"]"
   ]
  },
  {
   "cell_type": "code",
   "execution_count": 180,
   "id": "6afce6e8",
   "metadata": {},
   "outputs": [],
   "source": [
    "Model_Name=[\"Linear Regression\",\"Decision Tree\",\"Random Forest\",\"XGboost\"]"
   ]
  },
  {
   "cell_type": "code",
   "execution_count": 212,
   "id": "54a4ccfe",
   "metadata": {},
   "outputs": [],
   "source": [
    "Accuracy=[round(LR.score(X_test,y_test),2),round(DtR2.score(X_test,y_test),2),round(rf2.score(X_test,y_test),2),\n",
    "         round(Xgbr2.score(X_test,y_test),2)]"
   ]
  },
  {
   "cell_type": "code",
   "execution_count": 213,
   "id": "2d5bb0d1",
   "metadata": {},
   "outputs": [],
   "source": [
    "RMSE=[round(np.sqrt(np.mean((y_test-y_pred_test_lr)**2)),2),\n",
    "         round(np.sqrt(np.mean((y_test-y_pred_test_dt)**2)),2),\n",
    "          round(np.sqrt(np.mean((y_test-y_pred_test_rf)**2)),2),\n",
    "           round(np.sqrt(np.mean((y_test-Xgbr_y_Pred_test)**2)),2)]"
   ]
  },
  {
   "cell_type": "code",
   "execution_count": 214,
   "id": "ccf3c1eb",
   "metadata": {},
   "outputs": [],
   "source": [
    "comp=(Model_Name,Accuracy,RMSE)"
   ]
  },
  {
   "cell_type": "code",
   "execution_count": 215,
   "id": "63f727a0",
   "metadata": {},
   "outputs": [],
   "source": [
    "comp_df=pd.DataFrame(comp,)"
   ]
  },
  {
   "cell_type": "code",
   "execution_count": 216,
   "id": "79773282",
   "metadata": {},
   "outputs": [],
   "source": [
    "comparison_df=pd.DataFrame(data=list(zip(Model_Name,Accuracy,RMSE)),columns=Col_Name)"
   ]
  },
  {
   "cell_type": "code",
   "execution_count": 217,
   "id": "c1640ff1",
   "metadata": {},
   "outputs": [
    {
     "data": {
      "text/html": [
       "<div>\n",
       "<style scoped>\n",
       "    .dataframe tbody tr th:only-of-type {\n",
       "        vertical-align: middle;\n",
       "    }\n",
       "\n",
       "    .dataframe tbody tr th {\n",
       "        vertical-align: top;\n",
       "    }\n",
       "\n",
       "    .dataframe thead th {\n",
       "        text-align: right;\n",
       "    }\n",
       "</style>\n",
       "<table border=\"1\" class=\"dataframe\">\n",
       "  <thead>\n",
       "    <tr style=\"text-align: right;\">\n",
       "      <th></th>\n",
       "      <th>Model Name</th>\n",
       "      <th>Accuracy</th>\n",
       "      <th>RMSE</th>\n",
       "    </tr>\n",
       "  </thead>\n",
       "  <tbody>\n",
       "    <tr>\n",
       "      <th>0</th>\n",
       "      <td>Linear Regression</td>\n",
       "      <td>0.16</td>\n",
       "      <td>4607.01</td>\n",
       "    </tr>\n",
       "    <tr>\n",
       "      <th>1</th>\n",
       "      <td>Decision Tree</td>\n",
       "      <td>0.66</td>\n",
       "      <td>2946.54</td>\n",
       "    </tr>\n",
       "    <tr>\n",
       "      <th>2</th>\n",
       "      <td>Random Forest</td>\n",
       "      <td>0.66</td>\n",
       "      <td>2910.39</td>\n",
       "    </tr>\n",
       "    <tr>\n",
       "      <th>3</th>\n",
       "      <td>XGboost</td>\n",
       "      <td>0.66</td>\n",
       "      <td>2914.14</td>\n",
       "    </tr>\n",
       "  </tbody>\n",
       "</table>\n",
       "</div>"
      ],
      "text/plain": [
       "          Model Name  Accuracy     RMSE\n",
       "0  Linear Regression      0.16  4607.01\n",
       "1      Decision Tree      0.66  2946.54\n",
       "2      Random Forest      0.66  2910.39\n",
       "3            XGboost      0.66  2914.14"
      ]
     },
     "execution_count": 217,
     "metadata": {},
     "output_type": "execute_result"
    }
   ],
   "source": [
    "comparison_df"
   ]
  },
  {
   "cell_type": "code",
   "execution_count": null,
   "id": "7cbc0975",
   "metadata": {},
   "outputs": [],
   "source": []
  },
  {
   "cell_type": "markdown",
   "id": "afb58839",
   "metadata": {},
   "source": [
    "## prediction on test data"
   ]
  },
  {
   "cell_type": "code",
   "execution_count": 171,
   "id": "bab5ae50",
   "metadata": {},
   "outputs": [
    {
     "data": {
      "text/html": [
       "<div>\n",
       "<style scoped>\n",
       "    .dataframe tbody tr th:only-of-type {\n",
       "        vertical-align: middle;\n",
       "    }\n",
       "\n",
       "    .dataframe tbody tr th {\n",
       "        vertical-align: top;\n",
       "    }\n",
       "\n",
       "    .dataframe thead th {\n",
       "        text-align: right;\n",
       "    }\n",
       "</style>\n",
       "<table border=\"1\" class=\"dataframe\">\n",
       "  <thead>\n",
       "    <tr style=\"text-align: right;\">\n",
       "      <th></th>\n",
       "      <th>Gender</th>\n",
       "      <th>Age</th>\n",
       "      <th>Occupation</th>\n",
       "      <th>Stay_In_Current_City_Years</th>\n",
       "      <th>Marital_Status</th>\n",
       "      <th>Product_Category_1</th>\n",
       "      <th>Product_Category_2</th>\n",
       "      <th>Product_Category_3</th>\n",
       "      <th>Purchase</th>\n",
       "      <th>City_Category_B</th>\n",
       "      <th>City_Category_C</th>\n",
       "    </tr>\n",
       "  </thead>\n",
       "  <tbody>\n",
       "    <tr>\n",
       "      <th>0</th>\n",
       "      <td>1</td>\n",
       "      <td>4</td>\n",
       "      <td>7</td>\n",
       "      <td>2</td>\n",
       "      <td>1</td>\n",
       "      <td>1</td>\n",
       "      <td>11</td>\n",
       "      <td>999</td>\n",
       "      <td>NaN</td>\n",
       "      <td>1</td>\n",
       "      <td>0</td>\n",
       "    </tr>\n",
       "    <tr>\n",
       "      <th>1</th>\n",
       "      <td>1</td>\n",
       "      <td>2</td>\n",
       "      <td>17</td>\n",
       "      <td>0</td>\n",
       "      <td>0</td>\n",
       "      <td>3</td>\n",
       "      <td>5</td>\n",
       "      <td>999</td>\n",
       "      <td>NaN</td>\n",
       "      <td>0</td>\n",
       "      <td>1</td>\n",
       "    </tr>\n",
       "    <tr>\n",
       "      <th>2</th>\n",
       "      <td>0</td>\n",
       "      <td>3</td>\n",
       "      <td>1</td>\n",
       "      <td>4</td>\n",
       "      <td>1</td>\n",
       "      <td>5</td>\n",
       "      <td>14</td>\n",
       "      <td>999</td>\n",
       "      <td>NaN</td>\n",
       "      <td>1</td>\n",
       "      <td>0</td>\n",
       "    </tr>\n",
       "    <tr>\n",
       "      <th>3</th>\n",
       "      <td>0</td>\n",
       "      <td>3</td>\n",
       "      <td>1</td>\n",
       "      <td>4</td>\n",
       "      <td>1</td>\n",
       "      <td>4</td>\n",
       "      <td>9</td>\n",
       "      <td>999</td>\n",
       "      <td>NaN</td>\n",
       "      <td>1</td>\n",
       "      <td>0</td>\n",
       "    </tr>\n",
       "    <tr>\n",
       "      <th>4</th>\n",
       "      <td>0</td>\n",
       "      <td>2</td>\n",
       "      <td>1</td>\n",
       "      <td>1</td>\n",
       "      <td>0</td>\n",
       "      <td>4</td>\n",
       "      <td>5</td>\n",
       "      <td>12</td>\n",
       "      <td>NaN</td>\n",
       "      <td>0</td>\n",
       "      <td>1</td>\n",
       "    </tr>\n",
       "    <tr>\n",
       "      <th>...</th>\n",
       "      <td>...</td>\n",
       "      <td>...</td>\n",
       "      <td>...</td>\n",
       "      <td>...</td>\n",
       "      <td>...</td>\n",
       "      <td>...</td>\n",
       "      <td>...</td>\n",
       "      <td>...</td>\n",
       "      <td>...</td>\n",
       "      <td>...</td>\n",
       "      <td>...</td>\n",
       "    </tr>\n",
       "    <tr>\n",
       "      <th>233594</th>\n",
       "      <td>0</td>\n",
       "      <td>2</td>\n",
       "      <td>15</td>\n",
       "      <td>4</td>\n",
       "      <td>1</td>\n",
       "      <td>8</td>\n",
       "      <td>999</td>\n",
       "      <td>999</td>\n",
       "      <td>NaN</td>\n",
       "      <td>1</td>\n",
       "      <td>0</td>\n",
       "    </tr>\n",
       "    <tr>\n",
       "      <th>233595</th>\n",
       "      <td>0</td>\n",
       "      <td>2</td>\n",
       "      <td>15</td>\n",
       "      <td>4</td>\n",
       "      <td>1</td>\n",
       "      <td>5</td>\n",
       "      <td>8</td>\n",
       "      <td>999</td>\n",
       "      <td>NaN</td>\n",
       "      <td>1</td>\n",
       "      <td>0</td>\n",
       "    </tr>\n",
       "    <tr>\n",
       "      <th>233596</th>\n",
       "      <td>0</td>\n",
       "      <td>2</td>\n",
       "      <td>15</td>\n",
       "      <td>4</td>\n",
       "      <td>1</td>\n",
       "      <td>1</td>\n",
       "      <td>5</td>\n",
       "      <td>12</td>\n",
       "      <td>NaN</td>\n",
       "      <td>1</td>\n",
       "      <td>0</td>\n",
       "    </tr>\n",
       "    <tr>\n",
       "      <th>233597</th>\n",
       "      <td>0</td>\n",
       "      <td>4</td>\n",
       "      <td>1</td>\n",
       "      <td>4</td>\n",
       "      <td>0</td>\n",
       "      <td>10</td>\n",
       "      <td>16</td>\n",
       "      <td>999</td>\n",
       "      <td>NaN</td>\n",
       "      <td>0</td>\n",
       "      <td>1</td>\n",
       "    </tr>\n",
       "    <tr>\n",
       "      <th>233598</th>\n",
       "      <td>0</td>\n",
       "      <td>4</td>\n",
       "      <td>0</td>\n",
       "      <td>4</td>\n",
       "      <td>1</td>\n",
       "      <td>4</td>\n",
       "      <td>5</td>\n",
       "      <td>999</td>\n",
       "      <td>NaN</td>\n",
       "      <td>1</td>\n",
       "      <td>0</td>\n",
       "    </tr>\n",
       "  </tbody>\n",
       "</table>\n",
       "<p>233599 rows × 11 columns</p>\n",
       "</div>"
      ],
      "text/plain": [
       "        Gender  Age  Occupation  Stay_In_Current_City_Years  Marital_Status  \\\n",
       "0            1    4           7                           2               1   \n",
       "1            1    2          17                           0               0   \n",
       "2            0    3           1                           4               1   \n",
       "3            0    3           1                           4               1   \n",
       "4            0    2           1                           1               0   \n",
       "...        ...  ...         ...                         ...             ...   \n",
       "233594       0    2          15                           4               1   \n",
       "233595       0    2          15                           4               1   \n",
       "233596       0    2          15                           4               1   \n",
       "233597       0    4           1                           4               0   \n",
       "233598       0    4           0                           4               1   \n",
       "\n",
       "        Product_Category_1  Product_Category_2  Product_Category_3  Purchase  \\\n",
       "0                        1                  11                 999       NaN   \n",
       "1                        3                   5                 999       NaN   \n",
       "2                        5                  14                 999       NaN   \n",
       "3                        4                   9                 999       NaN   \n",
       "4                        4                   5                  12       NaN   \n",
       "...                    ...                 ...                 ...       ...   \n",
       "233594                   8                 999                 999       NaN   \n",
       "233595                   5                   8                 999       NaN   \n",
       "233596                   1                   5                  12       NaN   \n",
       "233597                  10                  16                 999       NaN   \n",
       "233598                   4                   5                 999       NaN   \n",
       "\n",
       "        City_Category_B  City_Category_C  \n",
       "0                     1                0  \n",
       "1                     0                1  \n",
       "2                     1                0  \n",
       "3                     1                0  \n",
       "4                     0                1  \n",
       "...                 ...              ...  \n",
       "233594                1                0  \n",
       "233595                1                0  \n",
       "233596                1                0  \n",
       "233597                0                1  \n",
       "233598                1                0  \n",
       "\n",
       "[233599 rows x 11 columns]"
      ]
     },
     "execution_count": 171,
     "metadata": {},
     "output_type": "execute_result"
    }
   ],
   "source": [
    "df_test"
   ]
  },
  {
   "cell_type": "code",
   "execution_count": 172,
   "id": "013e248d",
   "metadata": {},
   "outputs": [],
   "source": [
    "test = df_test.drop(columns=['Purchase'])"
   ]
  },
  {
   "cell_type": "code",
   "execution_count": 173,
   "id": "261b182c",
   "metadata": {},
   "outputs": [
    {
     "data": {
      "text/plain": [
       "array([14492.8698958 , 10407.43449296,  6438.57580641, ...,\n",
       "       13319.37465667, 20014.18755445,  2310.83151372])"
      ]
     },
     "execution_count": 173,
     "metadata": {},
     "output_type": "execute_result"
    }
   ],
   "source": [
    "Pred_Test=rf2.predict(test)\n",
    "Pred_Test"
   ]
  },
  {
   "cell_type": "code",
   "execution_count": 175,
   "id": "1c581cb8",
   "metadata": {},
   "outputs": [
    {
     "data": {
      "text/html": [
       "<div>\n",
       "<style scoped>\n",
       "    .dataframe tbody tr th:only-of-type {\n",
       "        vertical-align: middle;\n",
       "    }\n",
       "\n",
       "    .dataframe tbody tr th {\n",
       "        vertical-align: top;\n",
       "    }\n",
       "\n",
       "    .dataframe thead th {\n",
       "        text-align: right;\n",
       "    }\n",
       "</style>\n",
       "<table border=\"1\" class=\"dataframe\">\n",
       "  <thead>\n",
       "    <tr style=\"text-align: right;\">\n",
       "      <th></th>\n",
       "      <th>Purchase</th>\n",
       "    </tr>\n",
       "  </thead>\n",
       "  <tbody>\n",
       "    <tr>\n",
       "      <th>0</th>\n",
       "      <td>14492.869896</td>\n",
       "    </tr>\n",
       "    <tr>\n",
       "      <th>1</th>\n",
       "      <td>10407.434493</td>\n",
       "    </tr>\n",
       "    <tr>\n",
       "      <th>2</th>\n",
       "      <td>6438.575806</td>\n",
       "    </tr>\n",
       "    <tr>\n",
       "      <th>3</th>\n",
       "      <td>2584.479089</td>\n",
       "    </tr>\n",
       "    <tr>\n",
       "      <th>4</th>\n",
       "      <td>2815.308475</td>\n",
       "    </tr>\n",
       "    <tr>\n",
       "      <th>...</th>\n",
       "      <td>...</td>\n",
       "    </tr>\n",
       "    <tr>\n",
       "      <th>233594</th>\n",
       "      <td>7489.452114</td>\n",
       "    </tr>\n",
       "    <tr>\n",
       "      <th>233595</th>\n",
       "      <td>6548.665363</td>\n",
       "    </tr>\n",
       "    <tr>\n",
       "      <th>233596</th>\n",
       "      <td>13319.374657</td>\n",
       "    </tr>\n",
       "    <tr>\n",
       "      <th>233597</th>\n",
       "      <td>20014.187554</td>\n",
       "    </tr>\n",
       "    <tr>\n",
       "      <th>233598</th>\n",
       "      <td>2310.831514</td>\n",
       "    </tr>\n",
       "  </tbody>\n",
       "</table>\n",
       "<p>233599 rows × 1 columns</p>\n",
       "</div>"
      ],
      "text/plain": [
       "            Purchase\n",
       "0       14492.869896\n",
       "1       10407.434493\n",
       "2        6438.575806\n",
       "3        2584.479089\n",
       "4        2815.308475\n",
       "...              ...\n",
       "233594   7489.452114\n",
       "233595   6548.665363\n",
       "233596  13319.374657\n",
       "233597  20014.187554\n",
       "233598   2310.831514\n",
       "\n",
       "[233599 rows x 1 columns]"
      ]
     },
     "execution_count": 175,
     "metadata": {},
     "output_type": "execute_result"
    }
   ],
   "source": [
    "Pred_data=pd.DataFrame(Pred_Test,columns=['Purchase'])\n",
    "Pred_data"
   ]
  },
  {
   "cell_type": "markdown",
   "id": "b1378ce8",
   "metadata": {},
   "source": [
    "## final submission code"
   ]
  },
  {
   "cell_type": "code",
   "execution_count": 177,
   "id": "04388128",
   "metadata": {},
   "outputs": [
    {
     "data": {
      "text/html": [
       "<div>\n",
       "<style scoped>\n",
       "    .dataframe tbody tr th:only-of-type {\n",
       "        vertical-align: middle;\n",
       "    }\n",
       "\n",
       "    .dataframe tbody tr th {\n",
       "        vertical-align: top;\n",
       "    }\n",
       "\n",
       "    .dataframe thead th {\n",
       "        text-align: right;\n",
       "    }\n",
       "</style>\n",
       "<table border=\"1\" class=\"dataframe\">\n",
       "  <thead>\n",
       "    <tr style=\"text-align: right;\">\n",
       "      <th></th>\n",
       "      <th>Purchase</th>\n",
       "      <th>ID</th>\n",
       "    </tr>\n",
       "  </thead>\n",
       "  <tbody>\n",
       "    <tr>\n",
       "      <th>0</th>\n",
       "      <td>14492.869896</td>\n",
       "      <td>1000004</td>\n",
       "    </tr>\n",
       "    <tr>\n",
       "      <th>1</th>\n",
       "      <td>10407.434493</td>\n",
       "      <td>1000009</td>\n",
       "    </tr>\n",
       "    <tr>\n",
       "      <th>2</th>\n",
       "      <td>6438.575806</td>\n",
       "      <td>1000010</td>\n",
       "    </tr>\n",
       "    <tr>\n",
       "      <th>3</th>\n",
       "      <td>2584.479089</td>\n",
       "      <td>1000010</td>\n",
       "    </tr>\n",
       "    <tr>\n",
       "      <th>4</th>\n",
       "      <td>2815.308475</td>\n",
       "      <td>1000011</td>\n",
       "    </tr>\n",
       "    <tr>\n",
       "      <th>...</th>\n",
       "      <td>...</td>\n",
       "      <td>...</td>\n",
       "    </tr>\n",
       "    <tr>\n",
       "      <th>233594</th>\n",
       "      <td>7489.452114</td>\n",
       "      <td>1006036</td>\n",
       "    </tr>\n",
       "    <tr>\n",
       "      <th>233595</th>\n",
       "      <td>6548.665363</td>\n",
       "      <td>1006036</td>\n",
       "    </tr>\n",
       "    <tr>\n",
       "      <th>233596</th>\n",
       "      <td>13319.374657</td>\n",
       "      <td>1006036</td>\n",
       "    </tr>\n",
       "    <tr>\n",
       "      <th>233597</th>\n",
       "      <td>20014.187554</td>\n",
       "      <td>1006037</td>\n",
       "    </tr>\n",
       "    <tr>\n",
       "      <th>233598</th>\n",
       "      <td>2310.831514</td>\n",
       "      <td>1006039</td>\n",
       "    </tr>\n",
       "  </tbody>\n",
       "</table>\n",
       "<p>233599 rows × 2 columns</p>\n",
       "</div>"
      ],
      "text/plain": [
       "            Purchase       ID\n",
       "0       14492.869896  1000004\n",
       "1       10407.434493  1000009\n",
       "2        6438.575806  1000010\n",
       "3        2584.479089  1000010\n",
       "4        2815.308475  1000011\n",
       "...              ...      ...\n",
       "233594   7489.452114  1006036\n",
       "233595   6548.665363  1006036\n",
       "233596  13319.374657  1006036\n",
       "233597  20014.187554  1006037\n",
       "233598   2310.831514  1006039\n",
       "\n",
       "[233599 rows x 2 columns]"
      ]
     },
     "execution_count": 177,
     "metadata": {},
     "output_type": "execute_result"
    }
   ],
   "source": [
    "Pred_data['ID'] = Data_test['User_ID']\n",
    "Pred_data"
   ]
  },
  {
   "cell_type": "code",
   "execution_count": null,
   "id": "14b4698c",
   "metadata": {},
   "outputs": [],
   "source": []
  }
 ],
 "metadata": {
  "kernelspec": {
   "display_name": "Python 3",
   "language": "python",
   "name": "python3"
  },
  "language_info": {
   "codemirror_mode": {
    "name": "ipython",
    "version": 3
   },
   "file_extension": ".py",
   "mimetype": "text/x-python",
   "name": "python",
   "nbconvert_exporter": "python",
   "pygments_lexer": "ipython3",
   "version": "3.8.8"
  }
 },
 "nbformat": 4,
 "nbformat_minor": 5
}
